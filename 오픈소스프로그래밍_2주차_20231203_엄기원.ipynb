{
  "nbformat": 4,
  "nbformat_minor": 0,
  "metadata": {
    "colab": {
      "provenance": []
    },
    "kernelspec": {
      "name": "python3",
      "display_name": "Python 3"
    },
    "language_info": {
      "name": "python"
    }
  },
  "cells": [
    {
      "cell_type": "markdown",
      "source": [
        "깃허브 링크"
      ],
      "metadata": {
        "id": "ly5xC_Dm8zi4"
      }
    },
    {
      "cell_type": "code",
      "execution_count": null,
      "metadata": {
        "id": "4yyDa8dQcUgv"
      },
      "outputs": [],
      "source": [
        "https://github.com/EomOrigin/OpensourceSW-Programming"
      ]
    }
  ]
}