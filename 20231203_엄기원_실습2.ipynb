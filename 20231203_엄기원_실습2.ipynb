{
  "nbformat": 4,
  "nbformat_minor": 0,
  "metadata": {
    "colab": {
      "provenance": []
    },
    "kernelspec": {
      "name": "python3",
      "display_name": "Python 3"
    },
    "language_info": {
      "name": "python"
    }
  },
  "cells": [
    {
      "cell_type": "code",
      "execution_count": null,
      "metadata": {
        "id": "DJ19kqxn9THh",
        "colab": {
          "base_uri": "https://localhost:8080/"
        },
        "outputId": "ed3da5c0-d9e0-441b-8f8f-0bfe44fdbfe3"
      },
      "outputs": [
        {
          "output_type": "stream",
          "name": "stdout",
          "text": [
            "/bin/bash: line 1: Github: command not found\n"
          ]
        }
      ],
      "source": [
        "!Github URL = https://github.com/EomOrigin/OpensourceSW-Programming.git"
      ]
    },
    {
      "cell_type": "markdown",
      "source": [
        "#예제1"
      ],
      "metadata": {
        "id": "f8vEqCK--qkV"
      }
    },
    {
      "cell_type": "code",
      "source": [
        "symbols = \"$*&!@\"\n",
        "codes = []\n",
        "\n",
        "for symbol in symbols:\n",
        "    codes.append(ord(symbol))\n",
        "\n",
        "print(codes)\n",
        "\n"
      ],
      "metadata": {
        "colab": {
          "base_uri": "https://localhost:8080/"
        },
        "id": "rF3Pc3GZ9uRi",
        "outputId": "b55fbbbf-a9c3-49b7-99dc-6ca453d99242"
      },
      "execution_count": 1,
      "outputs": [
        {
          "output_type": "stream",
          "name": "stdout",
          "text": [
            "[36, 42, 38, 33, 64]\n"
          ]
        }
      ]
    },
    {
      "cell_type": "markdown",
      "source": [
        "#예제2"
      ],
      "metadata": {
        "id": "YykcNVI2-su1"
      }
    },
    {
      "cell_type": "code",
      "source": [
        "symbols = \"$*&!@\"\n",
        "codes = [ord(symbol) for symbol in symbols]\n",
        "\n",
        "print(codes)\n"
      ],
      "metadata": {
        "id": "f7rPzCqe96PP",
        "colab": {
          "base_uri": "https://localhost:8080/"
        },
        "outputId": "495eb23a-3568-44c7-bdaa-6865ab60b204"
      },
      "execution_count": 2,
      "outputs": [
        {
          "output_type": "stream",
          "name": "stdout",
          "text": [
            "[36, 42, 38, 33, 64]\n"
          ]
        }
      ]
    },
    {
      "cell_type": "markdown",
      "source": [
        "#예제3\n"
      ],
      "metadata": {
        "id": "6MEJk7Sq-ttM"
      }
    },
    {
      "cell_type": "code",
      "source": [
        "# 예제 3. 지능형 리스트 지역 변수와 주변 변수 구분 예제\n",
        "\n",
        "x = '!!~$$*&!@'\n",
        "dummy = [ord(x) for x in x]\n",
        "\n",
        "print(x)\n",
        "print(dummy)\n"
      ],
      "metadata": {
        "colab": {
          "base_uri": "https://localhost:8080/"
        },
        "id": "2tyEsf-R-bOM",
        "outputId": "8932dc5c-84c2-48c3-eb30-1f1f7cecee59"
      },
      "execution_count": 3,
      "outputs": [
        {
          "output_type": "stream",
          "name": "stdout",
          "text": [
            "!!~$$*&!@\n",
            "[33, 33, 126, 36, 36, 42, 38, 33, 64]\n"
          ]
        }
      ]
    },
    {
      "cell_type": "markdown",
      "source": [
        "#예제4"
      ],
      "metadata": {
        "id": "oYqsX0yJ-uOP"
      }
    },
    {
      "cell_type": "code",
      "source": [
        "# 예제 4. 지능형 리스트로 만든 리스트\n",
        "symbols = '!!~$$*&!@'\n",
        "beyond_ascii = [ord(s) for s in symbols if ord(s) > 32]\n",
        "\n",
        "print(beyond_ascii)\n",
        "\n"
      ],
      "metadata": {
        "colab": {
          "base_uri": "https://localhost:8080/"
        },
        "id": "h55FjbPz-fFS",
        "outputId": "558a2c63-f9fb-4cb8-c091-4e8443bf234c"
      },
      "execution_count": 4,
      "outputs": [
        {
          "output_type": "stream",
          "name": "stdout",
          "text": [
            "[33, 33, 126, 36, 36, 42, 38, 33, 64]\n"
          ]
        }
      ]
    },
    {
      "cell_type": "markdown",
      "source": [
        "#예제5"
      ],
      "metadata": {
        "id": "I-swe-lv-v38"
      }
    },
    {
      "cell_type": "code",
      "source": [
        "# 예제 5. map()/filter()로 만든 리스트\n",
        "symbols = '!!~$$*&!@'\n",
        "beyond_ascii = list(filter(lambda c: c>64, map(ord, symbols)))\n",
        "\n",
        "print(beyond_ascii, '\\n')\n",
        "\n",
        "print(f\"Map function:\\n>>> {map(ord, symbols)}\")\n",
        "print(f\"List after map:\\n>>> {list(map(ord, symbols))}\")"
      ],
      "metadata": {
        "colab": {
          "base_uri": "https://localhost:8080/"
        },
        "id": "KdJ8qP6x-lmr",
        "outputId": "a15825c0-031e-4d5d-9cd4-8bcf0473f2c4"
      },
      "execution_count": 5,
      "outputs": [
        {
          "output_type": "stream",
          "name": "stdout",
          "text": [
            "[126] \n",
            "\n",
            "Map function:\n",
            ">>> <map object at 0x7a018c634d90>\n",
            "List after map:\n",
            ">>> [33, 33, 126, 36, 36, 42, 38, 33, 64]\n"
          ]
        }
      ]
    },
    {
      "cell_type": "markdown",
      "source": [
        "#예제6"
      ],
      "metadata": {
        "id": "tSliu9jj-xjs"
      }
    },
    {
      "cell_type": "code",
      "source": [
        "# 예제 6. 지능형 리스트를 이용한 데카르트 곱\n",
        "colors = ['black', 'white']\n",
        "sizes = ['S', 'M', 'L']\n",
        "tshirts = [(color, size) for color in colors for size in sizes]\n",
        "\n",
        "print(tshirts)\n",
        "\n",
        "for color in colors:\n",
        "    for size in sizes:\n",
        "        print((color, size))\n"
      ],
      "metadata": {
        "colab": {
          "base_uri": "https://localhost:8080/"
        },
        "id": "DPb0Bmq8-yqA",
        "outputId": "ecc58af8-d39b-4a9a-d8af-056343d5abae"
      },
      "execution_count": 6,
      "outputs": [
        {
          "output_type": "stream",
          "name": "stdout",
          "text": [
            "[('black', 'S'), ('black', 'M'), ('black', 'L'), ('white', 'S'), ('white', 'M'), ('white', 'L')]\n",
            "('black', 'S')\n",
            "('black', 'M')\n",
            "('black', 'L')\n",
            "('white', 'S')\n",
            "('white', 'M')\n",
            "('white', 'L')\n"
          ]
        }
      ]
    },
    {
      "cell_type": "markdown",
      "source": [
        "#예제7-1"
      ],
      "metadata": {
        "id": "GOXi-T3w-6Am"
      }
    },
    {
      "cell_type": "code",
      "source": [
        "# 예제 7. 제너레이터 표현식에서 튜플 초기화하기\n",
        "symbols = \"!#^&&#\"\n",
        "ord_s = tuple(ord(s) for s in symbols if ord(s))\n",
        "\n",
        "print(ord_s)\n"
      ],
      "metadata": {
        "colab": {
          "base_uri": "https://localhost:8080/"
        },
        "id": "2ECvUFOt-75e",
        "outputId": "8fce7db3-e46e-4bee-8d30-76e928cecd72"
      },
      "execution_count": 7,
      "outputs": [
        {
          "output_type": "stream",
          "name": "stdout",
          "text": [
            "(33, 35, 94, 38, 38, 35)\n"
          ]
        }
      ]
    },
    {
      "cell_type": "markdown",
      "source": [
        "#예제 7-2"
      ],
      "metadata": {
        "id": "U3mdG9jAwA-1"
      }
    },
    {
      "cell_type": "code",
      "source": [
        "# 예제 7. 제너레이터 표현식에서 배열 초기화하기\n",
        "import array\n",
        "\n",
        "ord_s = array.array('I', (ord(symbol) for symbol in symbols))\n",
        "\n",
        "print(ord_s)\n",
        "\n"
      ],
      "metadata": {
        "colab": {
          "base_uri": "https://localhost:8080/"
        },
        "id": "0qqR7sSnwHYK",
        "outputId": "2792f2e6-f57b-401d-bb12-a98ea5d5f711"
      },
      "execution_count": 8,
      "outputs": [
        {
          "output_type": "stream",
          "name": "stdout",
          "text": [
            "array('I', [33, 35, 94, 38, 38, 35])\n"
          ]
        }
      ]
    },
    {
      "cell_type": "markdown",
      "source": [
        "#예제8"
      ],
      "metadata": {
        "id": "1x86MDRP--_0"
      }
    },
    {
      "cell_type": "code",
      "source": [
        "# 예제 8. 제너레이터 표현식에서의 데카르트 곱\n",
        "colors = ['black', 'white']\n",
        "sizes = ['S', 'M', 'L']\n",
        "\n",
        "for tshirt in ('{} {}'.format(c, s) for s in sizes for c in colors):\n",
        "    print(tshirt)"
      ],
      "metadata": {
        "colab": {
          "base_uri": "https://localhost:8080/"
        },
        "id": "vkRJDPwz_DXf",
        "outputId": "913b00c1-a192-4b40-9abf-fdfa7f505916"
      },
      "execution_count": 9,
      "outputs": [
        {
          "output_type": "stream",
          "name": "stdout",
          "text": [
            "black S\n",
            "white S\n",
            "black M\n",
            "white M\n",
            "black L\n",
            "white L\n"
          ]
        }
      ]
    },
    {
      "cell_type": "markdown",
      "source": [
        "#예제9"
      ],
      "metadata": {
        "id": "G_3EELue_FG_"
      }
    },
    {
      "cell_type": "code",
      "source": [
        "# 예제 9. 레코드로 사용된 튜플 1\n",
        "lax_coordinates = (33.9425, -118.408056)\n",
        "city, year, pop, chg, area = ('Tokyo', 2003, 32450, 0.66, 8014)\n",
        "traveler_ids = [('USA', '31195855'),\n",
        "                ('BRA', 'CE342567'),\n",
        "                ('ESP', 'XDA205856')]\n",
        "\n",
        "for passport in sorted(traveler_ids):\n",
        "    print('%s/%s' % passport)\n",
        "    print('{}/{}'.format(passport[0], passport[1]))\n",
        "    print(f'{passport[0]}/{passport[1]}')\n"
      ],
      "metadata": {
        "colab": {
          "base_uri": "https://localhost:8080/"
        },
        "id": "pBuRZquf_GJu",
        "outputId": "20a76d9e-9f58-4634-b505-b5e184843d22"
      },
      "execution_count": 10,
      "outputs": [
        {
          "output_type": "stream",
          "name": "stdout",
          "text": [
            "BRA/CE342567\n",
            "BRA/CE342567\n",
            "BRA/CE342567\n",
            "ESP/XDA205856\n",
            "ESP/XDA205856\n",
            "ESP/XDA205856\n",
            "USA/31195855\n",
            "USA/31195855\n",
            "USA/31195855\n"
          ]
        }
      ]
    },
    {
      "cell_type": "markdown",
      "source": [
        "#예제10"
      ],
      "metadata": {
        "id": "VRFPHreI_IB4"
      }
    },
    {
      "cell_type": "code",
      "source": [
        "# 예제 10. 레코드로 사용된 튜플 2\n",
        "for country, _ in traveler_ids:\n",
        "    print(country)\n"
      ],
      "metadata": {
        "colab": {
          "base_uri": "https://localhost:8080/"
        },
        "id": "FNiHXRTv_JVJ",
        "outputId": "0e39692d-0d52-47b7-ab0f-6b0e91a36769"
      },
      "execution_count": 11,
      "outputs": [
        {
          "output_type": "stream",
          "name": "stdout",
          "text": [
            "USA\n",
            "BRA\n",
            "ESP\n"
          ]
        }
      ]
    },
    {
      "cell_type": "markdown",
      "source": [
        "#예제11"
      ],
      "metadata": {
        "id": "j7DEWgcI_NN6"
      }
    },
    {
      "cell_type": "code",
      "source": [
        "# 예제 11. 튜플 병렬 할당\n",
        "lax_coordinates = (33.9425, -118.408056)\n",
        "latitude, longtitude = lax_coordinates\n",
        "print(latitude)\n",
        "print(longtitude)\n"
      ],
      "metadata": {
        "colab": {
          "base_uri": "https://localhost:8080/"
        },
        "id": "x4JsFDW4_Okz",
        "outputId": "73105601-d936-4c0f-d395-ab85715d578b"
      },
      "execution_count": 12,
      "outputs": [
        {
          "output_type": "stream",
          "name": "stdout",
          "text": [
            "33.9425\n",
            "-118.408056\n"
          ]
        }
      ]
    },
    {
      "cell_type": "markdown",
      "source": [
        "#예제12"
      ],
      "metadata": {
        "id": "HPYD77G5_wVe"
      }
    },
    {
      "cell_type": "code",
      "source": [
        "# 예제 12. 튜플 병렬 할당 (swap)\n",
        "a = 10; b = 20\n",
        "b, a = a, b\n",
        "print(a, b)\n",
        "\n"
      ],
      "metadata": {
        "id": "9TurCSk6_xe3",
        "colab": {
          "base_uri": "https://localhost:8080/"
        },
        "outputId": "c27c1ce6-f471-47b6-9b76-1c99ecfa0489"
      },
      "execution_count": 13,
      "outputs": [
        {
          "output_type": "stream",
          "name": "stdout",
          "text": [
            "20 10\n"
          ]
        }
      ]
    },
    {
      "cell_type": "markdown",
      "source": [
        "#예제 13"
      ],
      "metadata": {
        "id": "gWJpJriVEI09"
      }
    },
    {
      "cell_type": "code",
      "source": [
        "# 예제 13. 튜플 병렬 할당 (함수 인수 전달)\n",
        "divmod(20, 8)\n",
        "\n",
        "\n",
        "t = (20, 8)\n",
        "divmod(*t)\n",
        "\n",
        "\n",
        "quotient, remainder = divmod(*t)\n",
        "quotient, remainder\n",
        "\n"
      ],
      "metadata": {
        "colab": {
          "base_uri": "https://localhost:8080/"
        },
        "id": "x9SKpWeFxtLF",
        "outputId": "377e4a2d-5182-4f3c-9092-6c1e203c00b4"
      },
      "execution_count": 16,
      "outputs": [
        {
          "output_type": "execute_result",
          "data": {
            "text/plain": [
              "(2, 4)"
            ]
          },
          "metadata": {},
          "execution_count": 16
        }
      ]
    },
    {
      "cell_type": "markdown",
      "source": [
        "# 예제 14"
      ],
      "metadata": {
        "id": "GmoKb4F8yXg4"
      }
    },
    {
      "cell_type": "code",
      "source": [
        "# 예제 14. 파일시스템 경로에서 경로명과 파일명 추출\n",
        "import os\n",
        "_, filename = os.path.split('/home/luciano/.ssh/idrsa.pub')\n",
        "filename\n"
      ],
      "metadata": {
        "colab": {
          "base_uri": "https://localhost:8080/",
          "height": 35
        },
        "id": "lxfXD8n8yZ6C",
        "outputId": "fd11fd6c-2ade-4a89-ae94-598b42fe058f"
      },
      "execution_count": 17,
      "outputs": [
        {
          "output_type": "execute_result",
          "data": {
            "text/plain": [
              "'idrsa.pub'"
            ],
            "application/vnd.google.colaboratory.intrinsic+json": {
              "type": "string"
            }
          },
          "metadata": {},
          "execution_count": 17
        }
      ]
    },
    {
      "cell_type": "markdown",
      "source": [
        "#예제 15"
      ],
      "metadata": {
        "id": "EbahDjqT1d4s"
      }
    },
    {
      "cell_type": "code",
      "source": [
        "# 예제 15. * 사용으로 병렬 할당 언패킹 1\n",
        "a, b, *rest = range(5)\n",
        "print(a, b, rest)\n",
        "\n",
        "\n",
        "a, b, *rest = range(3)\n",
        "print(a, b, rest)\n",
        "\n",
        "\n",
        "a, b, *rest = range(2)\n",
        "print(a, b, rest)\n",
        "\n"
      ],
      "metadata": {
        "colab": {
          "base_uri": "https://localhost:8080/"
        },
        "id": "V7-vOp8-1SHw",
        "outputId": "e6ed3659-7d39-4e60-a18d-3445c3896b33"
      },
      "execution_count": 18,
      "outputs": [
        {
          "output_type": "stream",
          "name": "stdout",
          "text": [
            "0 1 [2, 3, 4]\n",
            "0 1 [2]\n",
            "0 1 []\n"
          ]
        }
      ]
    },
    {
      "cell_type": "markdown",
      "source": [
        "#예제 16"
      ],
      "metadata": {
        "id": "icR1YIN91R4g"
      }
    },
    {
      "cell_type": "code",
      "source": [
        "# 예제 16. * 사용으로 병렬 할당 언패킹 2\n",
        "a, *body, c, d = range(5)\n",
        "print(a, body, c, d)\n",
        "\n",
        "\n",
        "*head, b, c, d = range(5)\n",
        "print(head, b, c, d)\n",
        "\n"
      ],
      "metadata": {
        "colab": {
          "base_uri": "https://localhost:8080/"
        },
        "id": "P44kGnIM1h7L",
        "outputId": "92e0e4e3-44ea-4487-e3ed-a5d613906f69"
      },
      "execution_count": 19,
      "outputs": [
        {
          "output_type": "stream",
          "name": "stdout",
          "text": [
            "0 [1, 2] 3 4\n",
            "[0, 1] 2 3 4\n"
          ]
        }
      ]
    },
    {
      "cell_type": "markdown",
      "source": [
        "#예제 17"
      ],
      "metadata": {
        "id": "s2ahUdBQ_peV"
      }
    },
    {
      "cell_type": "code",
      "source": [
        "# 예제 17. longitude에 접근하기 위해 내포된 튜플 언패킹\n",
        "metro_areas = [\n",
        "    (\"Tokyo\", \"JP\", 36.933, (35, 139)),\n",
        "    (\"Delhi NCR\", \"IN\", 21, (28, 77)),\n",
        "    (\"Mexico City\", \"MX\", 20, (19, -99)),\n",
        "    (\"New York–Newark\", \"US\", 20, (40, -74)),\n",
        "    (\"Sao Paulo\", \"BR\", 19, (-23, -46)),\n",
        "]\n",
        "\n",
        "print(\"{:15} | {:^9} | {:^9}\".format('', 'lat.', 'long.'))\n",
        "fmt = '{:15} | {:9.4f} | {:9.4f}'\n",
        "\n",
        "for name, cc, pop, (lat, longi) in metro_areas:\n",
        "    if longi <= 0:\n",
        "        print(fmt.format(name, lat, longi))\n",
        "\n"
      ],
      "metadata": {
        "colab": {
          "base_uri": "https://localhost:8080/"
        },
        "id": "XGLrorjo1zTO",
        "outputId": "a47d7513-611d-4112-fa1a-161e21fff86f"
      },
      "execution_count": 20,
      "outputs": [
        {
          "output_type": "stream",
          "name": "stdout",
          "text": [
            "                |   lat.    |   long.  \n",
            "Mexico City     |   19.0000 |  -99.0000\n",
            "New York–Newark |   40.0000 |  -74.0000\n",
            "Sao Paulo       |  -23.0000 |  -46.0000\n"
          ]
        }
      ]
    },
    {
      "cell_type": "markdown",
      "source": [
        "#예제 18\n"
      ],
      "metadata": {
        "id": "-AG1GU6h_rQI"
      }
    },
    {
      "cell_type": "code",
      "source": [
        "# 예제 18. 명명된 튜플형을 정의하고 사용하기\n",
        "from collections import namedtuple\n",
        "City = namedtuple('City', 'name country population coordinates')\n",
        "tokyo = City('Tokyo', 'JP', 36.933, (35.689, 139.691))\n",
        "print(tokyo)\n",
        "\n",
        "\n",
        "print(tokyo.population)\n",
        "\n",
        "\n",
        "print(tokyo.coordinates)\n",
        "\n",
        "\n",
        "print(tokyo[1])\n",
        "\n"
      ],
      "metadata": {
        "colab": {
          "base_uri": "https://localhost:8080/"
        },
        "id": "4hgucdsSBM4Z",
        "outputId": "d49eff6e-5134-46be-a5b0-686f66e7e996"
      },
      "execution_count": 21,
      "outputs": [
        {
          "output_type": "stream",
          "name": "stdout",
          "text": [
            "City(name='Tokyo', country='JP', population=36.933, coordinates=(35.689, 139.691))\n",
            "36.933\n",
            "(35.689, 139.691)\n",
            "JP\n"
          ]
        }
      ]
    },
    {
      "cell_type": "markdown",
      "source": [
        "#예제 19"
      ],
      "metadata": {
        "id": "Qh4VM4cK_rbE"
      }
    },
    {
      "cell_type": "code",
      "source": [
        "# 예제 19. 명명된 튜플의 속성과 메서드 (예제 18에 이어서)\n",
        "print(City._fields)\n",
        "\n",
        "\n",
        "LatLong = namedtuple('LatLong', 'lat long')\n",
        "delhi_data = ('Delhi NCR', 'IN', 21.935, LatLong(28.613, 77.208))\n",
        "\n",
        "delhi = City._make(delhi_data)\n",
        "print(delhi._asdict())\n",
        "\n",
        "\n",
        "for key, value in delhi._asdict().items():\n",
        "    print(key + ':', value)\n"
      ],
      "metadata": {
        "colab": {
          "base_uri": "https://localhost:8080/"
        },
        "id": "C0ui38t5BVe7",
        "outputId": "e16a1883-345d-4360-a6ac-7e7aaeb8422d"
      },
      "execution_count": 23,
      "outputs": [
        {
          "output_type": "stream",
          "name": "stdout",
          "text": [
            "('name', 'country', 'population', 'coordinates')\n",
            "{'name': 'Delhi NCR', 'country': 'IN', 'population': 21.935, 'coordinates': LatLong(lat=28.613, long=77.208)}\n",
            "name: Delhi NCR\n",
            "country: IN\n",
            "population: 21.935\n",
            "coordinates: LatLong(lat=28.613, long=77.208)\n"
          ]
        }
      ]
    },
    {
      "cell_type": "markdown",
      "source": [
        "#예제 20"
      ],
      "metadata": {
        "id": "SCxTpnh-_rkO"
      }
    },
    {
      "cell_type": "code",
      "source": [
        "# 예제 20. 슬라이싱 예제\n",
        "l = [10, 20, 30, 40, 50, 60]\n",
        "print(l[:2])\n",
        "print(l[2:])\n",
        "\n",
        "\n",
        "print(l[:3])\n",
        "\n",
        "\n",
        "print(l[3:])\n",
        "\n"
      ],
      "metadata": {
        "colab": {
          "base_uri": "https://localhost:8080/"
        },
        "id": "1fVo6UuJBdmB",
        "outputId": "da91534e-61e5-4fe9-e71f-025107bb2432"
      },
      "execution_count": 22,
      "outputs": [
        {
          "output_type": "stream",
          "name": "stdout",
          "text": [
            "[10, 20]\n",
            "[30, 40, 50, 60]\n",
            "[10, 20, 30]\n",
            "[40, 50, 60]\n"
          ]
        }
      ]
    },
    {
      "cell_type": "markdown",
      "source": [
        "#예제 21"
      ],
      "metadata": {
        "id": "Aep4OXAv_r60"
      }
    },
    {
      "cell_type": "code",
      "source": [
        "# 예제 21. 단순 텍스트 파일 청구서의 행 항목들\n",
        "invoice = \"\"\"\n",
        "0....6...................25........33......40........\n",
        "1909  Pimoroni          $17.50    3    $52.50\n",
        "1489  6mm Tactile        $4.95    2     $9.90\n",
        "\"\"\"\n",
        "\n",
        "SKU = slice(0, 6)\n",
        "DESCRIPTION = slice(6, 25)\n",
        "UNIT_PRICE = slice(25, 33)\n",
        "QUANTITY = slice(33, 40)\n",
        "ITEM_TOTAL = slice(40, None)\n",
        "\n",
        "line_items = invoice.split('\\n')[2:]\n",
        "\n",
        "for item in line_items:\n",
        "    print(item[UNIT_PRICE], item[DESCRIPTION])\n"
      ],
      "metadata": {
        "colab": {
          "base_uri": "https://localhost:8080/"
        },
        "id": "pc3Gf1s6B4Pt",
        "outputId": "706899dc-fb02-4168-a1e7-5ea85e4ff263"
      },
      "execution_count": 24,
      "outputs": [
        {
          "output_type": "stream",
          "name": "stdout",
          "text": [
            "17.50    Pimoroni          $\n",
            "$4.95    6mm Tactile        \n",
            " \n"
          ]
        }
      ]
    },
    {
      "cell_type": "markdown",
      "source": [
        "#예제 22"
      ],
      "metadata": {
        "id": "cc5uEjVg_sUt"
      }
    },
    {
      "cell_type": "code",
      "source": [
        "# 예제 22. 가변 시퀀스 변형\n",
        "l = list(range(10))\n",
        "l[2:5] = [20, 30]\n",
        "\n",
        "del l[5:7]\n",
        "\n",
        "l[3::2] = [11, 22]\n"
      ],
      "metadata": {
        "id": "oyaHIGopB7bV"
      },
      "execution_count": 25,
      "outputs": []
    },
    {
      "cell_type": "markdown",
      "source": [
        "#예제 23"
      ],
      "metadata": {
        "id": "5yIeEbB2_scw"
      }
    },
    {
      "cell_type": "code",
      "source": [
        "# 예제 23. 가변 시퀀스 변형 오류 예시\n",
        "l[2:5] = 100\n"
      ],
      "metadata": {
        "colab": {
          "base_uri": "https://localhost:8080/",
          "height": 158
        },
        "id": "2HvmibFTB-6I",
        "outputId": "319e04bc-f2ef-4c93-ff05-ec900f540285"
      },
      "execution_count": 26,
      "outputs": [
        {
          "output_type": "error",
          "ename": "TypeError",
          "evalue": "can only assign an iterable",
          "traceback": [
            "\u001b[0;31m---------------------------------------------------------------------------\u001b[0m",
            "\u001b[0;31mTypeError\u001b[0m                                 Traceback (most recent call last)",
            "\u001b[0;32m<ipython-input-26-01d9a051377e>\u001b[0m in \u001b[0;36m<cell line: 2>\u001b[0;34m()\u001b[0m\n\u001b[1;32m      1\u001b[0m \u001b[0;31m# 예제 23. 가변 시퀀스 변형 오류 예시\u001b[0m\u001b[0;34m\u001b[0m\u001b[0;34m\u001b[0m\u001b[0m\n\u001b[0;32m----> 2\u001b[0;31m \u001b[0ml\u001b[0m\u001b[0;34m[\u001b[0m\u001b[0;36m2\u001b[0m\u001b[0;34m:\u001b[0m\u001b[0;36m5\u001b[0m\u001b[0;34m]\u001b[0m \u001b[0;34m=\u001b[0m \u001b[0;36m100\u001b[0m\u001b[0;34m\u001b[0m\u001b[0;34m\u001b[0m\u001b[0m\n\u001b[0m",
            "\u001b[0;31mTypeError\u001b[0m: can only assign an iterable"
          ]
        }
      ]
    },
    {
      "cell_type": "markdown",
      "source": [
        "#예제 24"
      ],
      "metadata": {
        "id": "5rXJev1k_skd"
      }
    },
    {
      "cell_type": "code",
      "source": [
        "# 예제 24. 올바른 할당문\n",
        "l[2:5] = [100]\n"
      ],
      "metadata": {
        "id": "_F-2YRUECEsk"
      },
      "execution_count": 27,
      "outputs": []
    },
    {
      "cell_type": "markdown",
      "source": [
        "#예제 25"
      ],
      "metadata": {
        "id": "_85YxalA_svr"
      }
    },
    {
      "cell_type": "code",
      "source": [
        "# 예제 25. 시퀀스에 덧셈, 곱셈 수행\n",
        "l = [1, 2, 3]\n",
        "l * 5\n",
        "\n",
        "5 * 'abcd'\n"
      ],
      "metadata": {
        "colab": {
          "base_uri": "https://localhost:8080/",
          "height": 35
        },
        "id": "cy3i__NoCG49",
        "outputId": "13831980-f2fd-4eed-e4e7-8275d5f8d4e5"
      },
      "execution_count": 28,
      "outputs": [
        {
          "output_type": "execute_result",
          "data": {
            "text/plain": [
              "'abcdabcdabcdabcdabcd'"
            ],
            "application/vnd.google.colaboratory.intrinsic+json": {
              "type": "string"
            }
          },
          "metadata": {},
          "execution_count": 28
        }
      ]
    },
    {
      "cell_type": "markdown",
      "source": [
        "#예제 26"
      ],
      "metadata": {
        "id": "oU9X8f6X_s1a"
      }
    },
    {
      "cell_type": "code",
      "source": [
        "# 예제 26. 길이가 3인 리스트 3개로 표현한 틱택토 보드\n",
        "board = [['_'] * 3 for i in range(3)]\n",
        "board[1][2] = 'X'\n"
      ],
      "metadata": {
        "id": "t6o9jizZCgDP"
      },
      "execution_count": 29,
      "outputs": []
    },
    {
      "cell_type": "markdown",
      "source": [
        "#예제 27"
      ],
      "metadata": {
        "id": "lx4dMRn5_s6M"
      }
    },
    {
      "cell_type": "code",
      "source": [
        "# 예제 27. 동일한 리스트에 대한 세 개의 참조를 가진 리스트 1\n",
        "weird_board = [['_'] * 3] * 3\n",
        "weird_board[1][2] = 'O'\n"
      ],
      "metadata": {
        "id": "cw8XYRKgChlV"
      },
      "execution_count": 30,
      "outputs": []
    },
    {
      "cell_type": "markdown",
      "source": [
        "#예제 28"
      ],
      "metadata": {
        "id": "FX-PUiwz_s-m"
      }
    },
    {
      "cell_type": "code",
      "source": [
        "# 예제 28. 동일한 리스트에 대한 세 개의 참조를 가진 리스트 2\n",
        "row = ['_'] * 3\n",
        "board = []\n",
        "for i in range(3):\n",
        "    board.append(row)\n",
        "\n",
        "board[1][2] = 'X'\n"
      ],
      "metadata": {
        "id": "9s2SBCJVCjHY"
      },
      "execution_count": 31,
      "outputs": []
    },
    {
      "cell_type": "markdown",
      "source": [
        "#예제 29"
      ],
      "metadata": {
        "id": "6wlPDCDj_tCu"
      }
    },
    {
      "cell_type": "code",
      "source": [
        "# 예제 29. [예제 26]의 지능형 리스트의 다른 표현\n",
        "board = []\n",
        "for i in range(3):\n",
        "    row = ['_'] * 3\n",
        "    board.append(row)\n",
        "\n",
        "board[2][0] = 'X'\n"
      ],
      "metadata": {
        "id": "x4cRJiIfClbi"
      },
      "execution_count": 32,
      "outputs": []
    },
    {
      "cell_type": "markdown",
      "source": [
        "#예제 30"
      ],
      "metadata": {
        "id": "7AclQ47E_tHE"
      }
    },
    {
      "cell_type": "code",
      "source": [
        "# 예제 30. 가변 시퀀스의 복합 할당 연산자 곱 결과\n",
        "l = [1, 2, 3]\n",
        "id(l)\n",
        "l *= 2\n",
        "id(l)\n"
      ],
      "metadata": {
        "colab": {
          "base_uri": "https://localhost:8080/"
        },
        "id": "0LywpvvjCm9E",
        "outputId": "63635703-0245-4ced-8d90-0bf7eedd550b"
      },
      "execution_count": 33,
      "outputs": [
        {
          "output_type": "execute_result",
          "data": {
            "text/plain": [
              "134147087342784"
            ]
          },
          "metadata": {},
          "execution_count": 33
        }
      ]
    },
    {
      "cell_type": "markdown",
      "source": [
        "#예제 31"
      ],
      "metadata": {
        "id": "MFcWFcoX_tK-"
      }
    },
    {
      "cell_type": "code",
      "source": [
        "# 예제 31. 불변 시퀀스의 복합 할당 연산자 곱 결과\n",
        "t = (1, 2, 3)\n",
        "id(t)\n",
        "t *= 2\n",
        "id(t)\n"
      ],
      "metadata": {
        "colab": {
          "base_uri": "https://localhost:8080/"
        },
        "id": "l0lOCIxoCqhP",
        "outputId": "24354b57-d45c-4953-d9ca-604e6afc32c0"
      },
      "execution_count": 34,
      "outputs": [
        {
          "output_type": "execute_result",
          "data": {
            "text/plain": [
              "134147068793216"
            ]
          },
          "metadata": {},
          "execution_count": 34
        }
      ]
    },
    {
      "cell_type": "markdown",
      "source": [
        "#예제 32"
      ],
      "metadata": {
        "id": "2qEavfK3_tOv"
      }
    },
    {
      "cell_type": "code",
      "source": [
        "# 예제 32. 퀴즈\n",
        "t = (1, 2, [30, 40])\n",
        "print(t)\n",
        "\n",
        "t[2] += [50, 60]\n"
      ],
      "metadata": {
        "colab": {
          "base_uri": "https://localhost:8080/",
          "height": 193
        },
        "id": "b0Nuzsy7DSwm",
        "outputId": "17b65a8d-3975-448f-b5c2-807ae050a4a6"
      },
      "execution_count": 35,
      "outputs": [
        {
          "output_type": "stream",
          "name": "stdout",
          "text": [
            "(1, 2, [30, 40])\n"
          ]
        },
        {
          "output_type": "error",
          "ename": "TypeError",
          "evalue": "'tuple' object does not support item assignment",
          "traceback": [
            "\u001b[0;31m---------------------------------------------------------------------------\u001b[0m",
            "\u001b[0;31mTypeError\u001b[0m                                 Traceback (most recent call last)",
            "\u001b[0;32m<ipython-input-35-8c27aa7eab3a>\u001b[0m in \u001b[0;36m<cell line: 5>\u001b[0;34m()\u001b[0m\n\u001b[1;32m      3\u001b[0m \u001b[0mprint\u001b[0m\u001b[0;34m(\u001b[0m\u001b[0mt\u001b[0m\u001b[0;34m)\u001b[0m\u001b[0;34m\u001b[0m\u001b[0;34m\u001b[0m\u001b[0m\n\u001b[1;32m      4\u001b[0m \u001b[0;34m\u001b[0m\u001b[0m\n\u001b[0;32m----> 5\u001b[0;31m \u001b[0mt\u001b[0m\u001b[0;34m[\u001b[0m\u001b[0;36m2\u001b[0m\u001b[0;34m]\u001b[0m \u001b[0;34m+=\u001b[0m \u001b[0;34m[\u001b[0m\u001b[0;36m50\u001b[0m\u001b[0;34m,\u001b[0m \u001b[0;36m60\u001b[0m\u001b[0;34m]\u001b[0m\u001b[0;34m\u001b[0m\u001b[0;34m\u001b[0m\u001b[0m\n\u001b[0m",
            "\u001b[0;31mTypeError\u001b[0m: 'tuple' object does not support item assignment"
          ]
        }
      ]
    },
    {
      "cell_type": "markdown",
      "source": [
        "#예제 33"
      ],
      "metadata": {
        "id": "Z4L8POWG_tS8"
      }
    },
    {
      "cell_type": "code",
      "source": [
        "# 예제 33. 퀴즈 코드 수행 결과\n",
        "print(t)\n"
      ],
      "metadata": {
        "colab": {
          "base_uri": "https://localhost:8080/"
        },
        "id": "zZ0BgcmCDVg8",
        "outputId": "7a7a58cf-4cf8-4014-eeba-b82079121497"
      },
      "execution_count": 36,
      "outputs": [
        {
          "output_type": "stream",
          "name": "stdout",
          "text": [
            "(1, 2, [30, 40, 50, 60])\n"
          ]
        }
      ]
    },
    {
      "cell_type": "markdown",
      "source": [
        "#예제 34"
      ],
      "metadata": {
        "id": "fOXE75xO_tZ4"
      }
    },
    {
      "cell_type": "code",
      "source": [
        "# 예제 34. 리스트 정렬: sorted()\n",
        "fruits = ['grape', 'raspberry', 'apple', 'banana']\n",
        "sorted(fruits)\n",
        "\n",
        "sorted(fruits, reverse=True)\n",
        "\n",
        "sorted(fruits, key=len)\n"
      ],
      "metadata": {
        "colab": {
          "base_uri": "https://localhost:8080/"
        },
        "id": "9j_v3vgdDXi0",
        "outputId": "b1857f97-1e4a-4e04-d1b1-a6c35bf6787e"
      },
      "execution_count": 37,
      "outputs": [
        {
          "output_type": "execute_result",
          "data": {
            "text/plain": [
              "['grape', 'apple', 'banana', 'raspberry']"
            ]
          },
          "metadata": {},
          "execution_count": 37
        }
      ]
    },
    {
      "cell_type": "markdown",
      "source": [
        "#예제 35"
      ],
      "metadata": {
        "id": "qOwPfBDE_tdY"
      }
    },
    {
      "cell_type": "code",
      "source": [
        "# 예제 35. 리스트 정렬: list.sort()\n",
        "sorted(fruits, key=len, reverse=True)\n",
        "\n",
        "fruits.sort()\n"
      ],
      "metadata": {
        "id": "qnw6PqNoDZvM"
      },
      "execution_count": 38,
      "outputs": []
    },
    {
      "cell_type": "markdown",
      "source": [
        "#예제 36"
      ],
      "metadata": {
        "id": "XnYqhNQt_tgt"
      }
    },
    {
      "cell_type": "code",
      "source": [
        "# 예제 36. 커다란 실수 배열의 생성\n",
        "from array import array\n",
        "from random import random\n",
        "\n",
        "floats = array('d', (random() for _ in range(10**7)))\n",
        "floats[-1]\n"
      ],
      "metadata": {
        "colab": {
          "base_uri": "https://localhost:8080/"
        },
        "id": "_vu9WgVHDldN",
        "outputId": "a02a5194-d7f4-4d62-ae6a-273ce66a02f8"
      },
      "execution_count": 39,
      "outputs": [
        {
          "output_type": "execute_result",
          "data": {
            "text/plain": [
              "0.9419098220987572"
            ]
          },
          "metadata": {},
          "execution_count": 39
        }
      ]
    },
    {
      "cell_type": "markdown",
      "source": [
        "#예제 37"
      ],
      "metadata": {
        "id": "2l8rZOdp_tkh"
      }
    },
    {
      "cell_type": "code",
      "source": [
        "# 예제 37. 커다란 실수 배열의 저장/로딩\n",
        "with open('floats.bin', 'wb') as f:\n",
        "    floats.tofile(f)\n",
        "\n",
        "floats2 = array('d')\n",
        "with open('floats.bin', 'rb') as f:\n",
        "    floats2.fromfile(f, 10**7)\n",
        "\n",
        "floats2[-1]\n",
        "\n",
        "floats == floats2\n"
      ],
      "metadata": {
        "colab": {
          "base_uri": "https://localhost:8080/"
        },
        "id": "2uS_E-wADoBr",
        "outputId": "0ad64ab2-be97-480c-8a81-ac662541e3f0"
      },
      "execution_count": 40,
      "outputs": [
        {
          "output_type": "execute_result",
          "data": {
            "text/plain": [
              "True"
            ]
          },
          "metadata": {},
          "execution_count": 40
        }
      ]
    },
    {
      "cell_type": "markdown",
      "source": [
        "#예제 38"
      ],
      "metadata": {
        "id": "nGyWb2bG_toQ"
      }
    },
    {
      "cell_type": "code",
      "source": [
        "# 예제 38. 배열 항목 값의 바이트 중 하나 변경\n",
        "import array\n",
        "numbers = array.array('h', [-2, -1, 0, 1, 2])\n",
        "memv = memoryview(numbers)\n",
        "\n",
        "memv_oct = memv.cast('B')\n",
        "memv_oct.tolist()\n",
        "\n",
        "memv_oct[5] = 4\n",
        "numbers\n"
      ],
      "metadata": {
        "colab": {
          "base_uri": "https://localhost:8080/"
        },
        "id": "mj7pdevfDqCE",
        "outputId": "72ca3534-3dc2-45f7-bd04-c4f59cdaaec5"
      },
      "execution_count": 41,
      "outputs": [
        {
          "output_type": "execute_result",
          "data": {
            "text/plain": [
              "array('h', [-2, -1, 1024, 1, 2])"
            ]
          },
          "metadata": {},
          "execution_count": 41
        }
      ]
    },
    {
      "cell_type": "markdown",
      "source": [
        "#예제 39"
      ],
      "metadata": {
        "id": "uVoOzH0E_tsW"
      }
    },
    {
      "cell_type": "code",
      "source": [
        "# 예제 39. numpy.ndarray에서 행과 열을 이용한 기본 연산\n",
        "import numpy\n",
        "a = numpy.arange(12)\n",
        "a\n",
        "type(a)\n"
      ],
      "metadata": {
        "colab": {
          "base_uri": "https://localhost:8080/"
        },
        "id": "RYGZK1g0Drs1",
        "outputId": "4ca71b05-4463-4ee9-9239-8cdd3051b9b1"
      },
      "execution_count": 42,
      "outputs": [
        {
          "output_type": "execute_result",
          "data": {
            "text/plain": [
              "numpy.ndarray"
            ]
          },
          "metadata": {},
          "execution_count": 42
        }
      ]
    },
    {
      "cell_type": "markdown",
      "source": [
        "#예제 40"
      ],
      "metadata": {
        "id": "8yG1ysHN_tv2"
      }
    },
    {
      "cell_type": "code",
      "source": [
        "# 예제 40. numpy.ndarray에서 행과 열을 이용한 기본 연산 2\n",
        "a.shape = 3, 4\n",
        "a\n"
      ],
      "metadata": {
        "colab": {
          "base_uri": "https://localhost:8080/"
        },
        "id": "g36M_7YnDthi",
        "outputId": "6ef51aca-8776-46ce-ff51-cd13496fd017"
      },
      "execution_count": 43,
      "outputs": [
        {
          "output_type": "execute_result",
          "data": {
            "text/plain": [
              "array([[ 0,  1,  2,  3],\n",
              "       [ 4,  5,  6,  7],\n",
              "       [ 8,  9, 10, 11]])"
            ]
          },
          "metadata": {},
          "execution_count": 43
        }
      ]
    },
    {
      "cell_type": "markdown",
      "source": [
        "#예제 41"
      ],
      "metadata": {
        "id": "hH4mweeb_tz3"
      }
    },
    {
      "cell_type": "code",
      "source": [
        "# 예제 41. numpy.ndarray에서 행과 열을 이용한 기본 연산 3\n",
        "a[2]\n",
        "\n",
        "a[2, 1]\n",
        "\n",
        "a[:, 1]\n"
      ],
      "metadata": {
        "colab": {
          "base_uri": "https://localhost:8080/"
        },
        "id": "6OpMT9KKEZCi",
        "outputId": "15e4003e-1967-4b83-ba41-a4fad1c6616f"
      },
      "execution_count": 44,
      "outputs": [
        {
          "output_type": "execute_result",
          "data": {
            "text/plain": [
              "array([1, 5, 9])"
            ]
          },
          "metadata": {},
          "execution_count": 44
        }
      ]
    },
    {
      "cell_type": "markdown",
      "source": [
        "#예제 42"
      ],
      "metadata": {
        "id": "VjmgyMFm_t34"
      }
    },
    {
      "cell_type": "code",
      "source": [
        "# 예제 42. numpy.ndarray에서 행과 열을 이용한 기본 연산 4\n",
        "a.transpose()\n"
      ],
      "metadata": {
        "colab": {
          "base_uri": "https://localhost:8080/"
        },
        "id": "0FSRj5-yEbQF",
        "outputId": "e310c6cb-1651-410d-9826-4aea7f218151"
      },
      "execution_count": 45,
      "outputs": [
        {
          "output_type": "execute_result",
          "data": {
            "text/plain": [
              "array([[ 0,  4,  8],\n",
              "       [ 1,  5,  9],\n",
              "       [ 2,  6, 10],\n",
              "       [ 3,  7, 11]])"
            ]
          },
          "metadata": {},
          "execution_count": 45
        }
      ]
    },
    {
      "cell_type": "markdown",
      "source": [
        "#예제 43"
      ],
      "metadata": {
        "id": "h08JMVpz_t7h"
      }
    },
    {
      "cell_type": "code",
      "source": [
        "# 예제 43. 덱(deque) 이용하기 1\n",
        "from collections import deque\n",
        "dq = deque(range(10), maxlen=10)\n",
        "dq\n",
        "\n",
        "dq.rotate(3)\n",
        "dq\n",
        "\n",
        "dq.rotate(-4)\n",
        "dq\n"
      ],
      "metadata": {
        "colab": {
          "base_uri": "https://localhost:8080/"
        },
        "id": "z9MGzrnOEdEU",
        "outputId": "9775466d-db41-4612-f53f-9e93b482fdb9"
      },
      "execution_count": 46,
      "outputs": [
        {
          "output_type": "execute_result",
          "data": {
            "text/plain": [
              "deque([1, 2, 3, 4, 5, 6, 7, 8, 9, 0])"
            ]
          },
          "metadata": {},
          "execution_count": 46
        }
      ]
    },
    {
      "cell_type": "markdown",
      "source": [
        "#예제 44"
      ],
      "metadata": {
        "id": "JM-wzufZ_t_h"
      }
    },
    {
      "cell_type": "code",
      "source": [
        "# 예제 44. 덱(deque) 이용하기 2\n",
        "dq.appendleft(-1)\n",
        "dq\n",
        "\n",
        "dq.extend([11, 22, 33])\n",
        "dq\n",
        "\n",
        "dq.extendleft([10, 20, 30, 40])\n",
        "dq\n"
      ],
      "metadata": {
        "colab": {
          "base_uri": "https://localhost:8080/"
        },
        "id": "iRc4q8WTEfFi",
        "outputId": "306a18e4-2c23-47a4-8c7a-46263917dc82"
      },
      "execution_count": 47,
      "outputs": [
        {
          "output_type": "execute_result",
          "data": {
            "text/plain": [
              "deque([40, 30, 20, 10, 3, 4, 5, 6, 7, 8])"
            ]
          },
          "metadata": {},
          "execution_count": 47
        }
      ]
    }
  ]
}