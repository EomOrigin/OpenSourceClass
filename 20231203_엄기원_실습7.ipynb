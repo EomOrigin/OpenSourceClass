{
  "nbformat": 4,
  "nbformat_minor": 0,
  "metadata": {
    "colab": {
      "provenance": []
    },
    "kernelspec": {
      "name": "python3",
      "display_name": "Python 3"
    },
    "language_info": {
      "name": "python"
    }
  },
  "cells": [
    {
      "cell_type": "markdown",
      "source": [
        "예제 1"
      ],
      "metadata": {
        "id": "xHFD6T3VKnrQ"
      }
    },
    {
      "cell_type": "code",
      "source": [
        "from abc import ABC, abstractmethod\n",
        "from collections import namedtuple\n",
        "\n",
        "Customer = namedtuple('Customer', 'name fidelity')\n",
        "\n",
        "jack = Customer('Park', 100)\n",
        "jack\n"
      ],
      "metadata": {
        "id": "0YmsSoScKtoP",
        "colab": {
          "base_uri": "https://localhost:8080/"
        },
        "outputId": "8fc111fd-46e5-40cf-d969-d4d7570f422e"
      },
      "execution_count": 1,
      "outputs": [
        {
          "output_type": "execute_result",
          "data": {
            "text/plain": [
              "Customer(name='Park', fidelity=100)"
            ]
          },
          "metadata": {},
          "execution_count": 1
        }
      ]
    },
    {
      "cell_type": "code",
      "source": [
        "class LineItem:\n",
        "    \"\"\"구매할 물품/갯수 생성해서 총 가격을 반환\"\"\"\n",
        "    def __init__(self, product, quantity, price):\n",
        "        self.product = product\n",
        "        self.quantity = quantity\n",
        "        self.price = price\n",
        "\n",
        "    def total(self):\n",
        "        return self.price * self.quantity"
      ],
      "metadata": {
        "id": "eluzjcqnLGf8"
      },
      "execution_count": 2,
      "outputs": []
    },
    {
      "cell_type": "code",
      "source": [
        "class Order:  # Context\n",
        "    \"\"\"고객(namedtuple) 및 LineItem 클래스의 인스턴스를 cart로 받아서 총 계산할 가격을 산출\"\"\"\n",
        "    def __init__(self, customer, cart, promotion=None):\n",
        "        self.customer = customer\n",
        "        self.cart = list(cart)\n",
        "        self.promotion = promotion  # 할인 객체\n",
        "\n",
        "    def total(self):\n",
        "        \"\"\"__total 속성이 없으면 전체 계산할 값을 계산\"\"\"\n",
        "        if not hasattr(self, '__total'):\n",
        "            self.__total = sum(item.total() for item in self.cart)\n",
        "        return self.__total\n",
        "\n",
        "    def due(self):\n",
        "        \"\"\"할인금액 차감\"\"\"\n",
        "        if self.promotion is None:\n",
        "            discount = 0\n",
        "        else:\n",
        "            discount = self.promotion.discount(self)  # self = Order 객체\n",
        "        return self.total() - discount\n",
        "\n",
        "    def __repr__(self):\n",
        "        fmt = '<Order total: {:.2f} due: {:.2f}>'\n",
        "        return fmt.format(self.total(), self.due())\n"
      ],
      "metadata": {
        "id": "aga1zG0W8Ecy"
      },
      "execution_count": 3,
      "outputs": []
    },
    {
      "cell_type": "code",
      "source": [
        "class Promotion(ABC):  # strategy: abstract base class\n",
        "    \"\"\"할인 혜택 클래스들의 형태를 선언\"\"\"\n",
        "\n",
        "    @abstractmethod  # 이 클래스를 상속하는 클래스는 반드시 이 메서드를 선언해야 함\n",
        "    def discount(self, order):\n",
        "        \"\"\"할인액을 구체적인 숫자로 반환\"\"\"\n",
        "        pass\n"
      ],
      "metadata": {
        "id": "mYRBCNxt8QJC"
      },
      "execution_count": 4,
      "outputs": []
    },
    {
      "cell_type": "code",
      "source": [
        "class FidelityPromo(Promotion):\n",
        "    \"\"\"충성도 점수가 1000점 이상인 고객에게 전체 5% 할인 적용\"\"\"\n",
        "    def discount(self, order):\n",
        "        return order.total() * 0.05 if order.customer.fidelity >= 1000 else 0\n",
        "\n",
        "class BulkItemPromo(Promotion):\n",
        "    \"\"\"20개 이상의 동일 상품을 구매하면 10% 할인 적용\"\"\"\n",
        "    def discount(self, order):\n",
        "        discount = 0\n",
        "        for item in order.cart:\n",
        "            if item.quantity >= 20:\n",
        "                discount += item.total() * 0.1\n",
        "        return discount\n",
        "\n",
        "class LargeOrderPromo(Promotion):\n",
        "    \"\"\"10종류 이상의 상품을 구매하면 전체 7% 할인 적용\"\"\"\n",
        "    def discount(self, order):\n",
        "        distinct_items = {item.product for item in order.cart}\n",
        "        if len(distinct_items) >= 10:\n",
        "            return order.total() * 0.07\n",
        "        return 0\n"
      ],
      "metadata": {
        "id": "lgopIcxw8SSS"
      },
      "execution_count": 5,
      "outputs": []
    },
    {
      "cell_type": "markdown",
      "source": [
        "예제 2"
      ],
      "metadata": {
        "id": "YjUqy2FFLKgh"
      }
    },
    {
      "cell_type": "code",
      "source": [
        "joe = Customer('John Doe', 0)\n",
        "ann = Customer('Ann Smith', 1100)\n",
        "cart = [LineItem('banana', 4, .5),\n",
        "        LineItem('apple', 10, 1.5),\n",
        "        LineItem('watermellon', 5, 5.0)]\n"
      ],
      "metadata": {
        "id": "A6kN6gEJLLuR"
      },
      "execution_count": 6,
      "outputs": []
    },
    {
      "cell_type": "code",
      "source": [
        "Order(joe, cart, FidelityPromo())\n"
      ],
      "metadata": {
        "colab": {
          "base_uri": "https://localhost:8080/"
        },
        "id": "6frYTRAg8csI",
        "outputId": "2bb4cae0-21a5-417b-d5ce-27593728b128"
      },
      "execution_count": 7,
      "outputs": [
        {
          "output_type": "execute_result",
          "data": {
            "text/plain": [
              "<Order total: 42.00 due: 42.00>"
            ]
          },
          "metadata": {},
          "execution_count": 7
        }
      ]
    },
    {
      "cell_type": "code",
      "source": [
        "Order(ann, cart, FidelityPromo())\n"
      ],
      "metadata": {
        "colab": {
          "base_uri": "https://localhost:8080/"
        },
        "id": "gc24Yzb18fYY",
        "outputId": "b257f0ca-6af0-44f4-ebbf-7e6a4f982e5f"
      },
      "execution_count": 8,
      "outputs": [
        {
          "output_type": "execute_result",
          "data": {
            "text/plain": [
              "<Order total: 42.00 due: 39.90>"
            ]
          },
          "metadata": {},
          "execution_count": 8
        }
      ]
    },
    {
      "cell_type": "code",
      "source": [
        "banana_cart = [LineItem('banana', 30, .5),\n",
        "               LineItem('apple', 10, 1.5)]\n",
        "\n",
        "Order(joe, banana_cart, BulkItemPromo())\n"
      ],
      "metadata": {
        "colab": {
          "base_uri": "https://localhost:8080/"
        },
        "id": "rI-q8zQE8nZw",
        "outputId": "da625096-9bd6-4ae1-8aaa-0d4900299bb9"
      },
      "execution_count": 9,
      "outputs": [
        {
          "output_type": "execute_result",
          "data": {
            "text/plain": [
              "<Order total: 30.00 due: 28.50>"
            ]
          },
          "metadata": {},
          "execution_count": 9
        }
      ]
    },
    {
      "cell_type": "code",
      "source": [
        "long_order = [LineItem(str(item_code), 1, 1.0)\n",
        "              for item_code in range(10)]  # 물품 종류가 10개\n",
        "\n",
        "Order(joe, long_order, LargeOrderPromo())\n"
      ],
      "metadata": {
        "colab": {
          "base_uri": "https://localhost:8080/"
        },
        "id": "UaBFt9FD8pa4",
        "outputId": "1a325ea4-b627-40f2-cc6e-4b61b7be7809"
      },
      "execution_count": 10,
      "outputs": [
        {
          "output_type": "execute_result",
          "data": {
            "text/plain": [
              "<Order total: 10.00 due: 9.30>"
            ]
          },
          "metadata": {},
          "execution_count": 10
        }
      ]
    },
    {
      "cell_type": "code",
      "source": [
        "Order(joe, cart, LargeOrderPromo())\n"
      ],
      "metadata": {
        "colab": {
          "base_uri": "https://localhost:8080/"
        },
        "id": "skqd74Av8rF-",
        "outputId": "72c3a1d8-3088-4aad-da75-05ee022884cf"
      },
      "execution_count": 11,
      "outputs": [
        {
          "output_type": "execute_result",
          "data": {
            "text/plain": [
              "<Order total: 42.00 due: 42.00>"
            ]
          },
          "metadata": {},
          "execution_count": 11
        }
      ]
    },
    {
      "cell_type": "markdown",
      "source": [
        "예제3"
      ],
      "metadata": {
        "id": "7ZJk6BSrLPa1"
      }
    },
    {
      "cell_type": "code",
      "source": [
        "class Order:  # Context\n",
        "    \"\"\"고객(namedtuple) 및 LineItem 클래스의 인스턴스를 cart로 받아서 총 계산할 가격을 산출\"\"\"\n",
        "    def __init__(self, customer, cart, promotion=None):\n",
        "        self.customer = customer\n",
        "        self.cart = list(cart)\n",
        "        self.promotion = promotion  # 할인 객체\n",
        "\n",
        "    def total(self):\n",
        "        if not hasattr(self, '__total'):\n",
        "            self.__total = sum(item.total() for item in self.cart)\n",
        "        return self.__total\n",
        "\n",
        "    def due(self):\n",
        "        if self.promotion is None:\n",
        "            discount = 0\n",
        "        else:\n",
        "            discount = self.promotion(self)  # promotion은 함수 객체\n",
        "        return self.total() - discount\n",
        "\n",
        "    def __repr__(self):\n",
        "        fmt = '<Order total: {:.2f} due: {:.2f}>'\n",
        "        return fmt.format(self.total(), self.due())\n"
      ],
      "metadata": {
        "id": "5HYP-x9JLQWO"
      },
      "execution_count": 12,
      "outputs": []
    },
    {
      "cell_type": "code",
      "source": [
        "def fidelity_promo(order):\n",
        "    \"\"\"충성도 점수가 1000점 이상인 고객에게 전체 5% 할인 적용\"\"\"\n",
        "    return order.total() * 0.05 if order.customer.fidelity >= 1000 else 0\n",
        "\n",
        "def bulk_item_promo(order):\n",
        "    \"\"\"20개 이상의 동일 상품을 구매하면 10% 할인 적용\"\"\"\n",
        "    discount = 0\n",
        "    for item in order.cart:\n",
        "        if item.quantity >= 20:\n",
        "            discount += item.total() * 0.1\n",
        "    return discount\n",
        "\n",
        "def large_order_promo(order):\n",
        "    \"\"\"10종류 이상의 상품을 구매하면 전체 7% 할인 적용\"\"\"\n",
        "    distinct_items = {item.product for item in order.cart}\n",
        "    if len(distinct_items) >= 10:\n",
        "        return order.total() * 0.07\n",
        "    return 0\n"
      ],
      "metadata": {
        "id": "xOTuySz1LZpy"
      },
      "execution_count": 13,
      "outputs": []
    },
    {
      "cell_type": "code",
      "source": [
        "Order(joe, cart, fidelity_promo)"
      ],
      "metadata": {
        "colab": {
          "base_uri": "https://localhost:8080/"
        },
        "id": "lcdRPPgXLa0A",
        "outputId": "b017d0f5-44f4-4687-ce91-9d2fef0bc211"
      },
      "execution_count": 14,
      "outputs": [
        {
          "output_type": "execute_result",
          "data": {
            "text/plain": [
              "<Order total: 42.00 due: 42.00>"
            ]
          },
          "metadata": {},
          "execution_count": 14
        }
      ]
    },
    {
      "cell_type": "code",
      "source": [
        "Order(ann, cart, fidelity_promo)"
      ],
      "metadata": {
        "colab": {
          "base_uri": "https://localhost:8080/"
        },
        "id": "zpeik6cYLeTd",
        "outputId": "13b81ea4-a0e7-4255-c569-0f945fbadd51"
      },
      "execution_count": 15,
      "outputs": [
        {
          "output_type": "execute_result",
          "data": {
            "text/plain": [
              "<Order total: 42.00 due: 39.90>"
            ]
          },
          "metadata": {},
          "execution_count": 15
        }
      ]
    },
    {
      "cell_type": "code",
      "source": [
        "Order(joe, banana_cart, bulk_item_promo)"
      ],
      "metadata": {
        "colab": {
          "base_uri": "https://localhost:8080/"
        },
        "id": "RF1u0YsD9MGe",
        "outputId": "06276ef8-0508-4f9f-ebc4-528137851a36"
      },
      "execution_count": 16,
      "outputs": [
        {
          "output_type": "execute_result",
          "data": {
            "text/plain": [
              "<Order total: 30.00 due: 28.50>"
            ]
          },
          "metadata": {},
          "execution_count": 16
        }
      ]
    },
    {
      "cell_type": "code",
      "source": [
        "Order(ann, long_order, large_order_promo)"
      ],
      "metadata": {
        "colab": {
          "base_uri": "https://localhost:8080/"
        },
        "id": "52HpVTB-9OGN",
        "outputId": "8d812b26-bfe0-4f1e-8436-36f926adac50"
      },
      "execution_count": 17,
      "outputs": [
        {
          "output_type": "execute_result",
          "data": {
            "text/plain": [
              "<Order total: 10.00 due: 9.30>"
            ]
          },
          "metadata": {},
          "execution_count": 17
        }
      ]
    },
    {
      "cell_type": "markdown",
      "source": [
        "예제 4"
      ],
      "metadata": {
        "id": "8gfWtYXxLkbV"
      }
    },
    {
      "cell_type": "code",
      "source": [
        "promos = [fidelity_promo, bulk_item_promo, large_order_promo]\n",
        "# 함수들로 구현된 전략들의 리스트\n",
        "\n",
        "def best_promo(order):\n",
        "    \"\"\"최대로 할인받을 금액을 반환\"\"\"\n",
        "    return max(promo(order) for promo in promos)\n"
      ],
      "metadata": {
        "id": "AvLlAN2iLloT"
      },
      "execution_count": 18,
      "outputs": []
    },
    {
      "cell_type": "markdown",
      "source": [
        "예제 5"
      ],
      "metadata": {
        "id": "jtzthqYZ9cjH"
      }
    },
    {
      "cell_type": "code",
      "source": [
        "Order(joe, long_order, best_promo)"
      ],
      "metadata": {
        "colab": {
          "base_uri": "https://localhost:8080/"
        },
        "id": "hpFIlvd8MGJ6",
        "outputId": "879c7d8e-2290-4629-e395-3e53394a6d44"
      },
      "execution_count": 19,
      "outputs": [
        {
          "output_type": "execute_result",
          "data": {
            "text/plain": [
              "<Order total: 10.00 due: 9.30>"
            ]
          },
          "metadata": {},
          "execution_count": 19
        }
      ]
    },
    {
      "cell_type": "code",
      "source": [
        "Order(joe, banana_cart, best_promo)"
      ],
      "metadata": {
        "colab": {
          "base_uri": "https://localhost:8080/"
        },
        "id": "h8_n7mIoMKZ5",
        "outputId": "81a8903e-70e9-4f56-d353-8aac3b642b09"
      },
      "execution_count": 20,
      "outputs": [
        {
          "output_type": "execute_result",
          "data": {
            "text/plain": [
              "<Order total: 30.00 due: 28.50>"
            ]
          },
          "metadata": {},
          "execution_count": 20
        }
      ]
    },
    {
      "cell_type": "code",
      "source": [
        "Order(ann, cart, best_promo)"
      ],
      "metadata": {
        "colab": {
          "base_uri": "https://localhost:8080/"
        },
        "id": "SceilW6K9Zic",
        "outputId": "9da1e99b-c637-4c16-c43d-08d9cffb978a"
      },
      "execution_count": 21,
      "outputs": [
        {
          "output_type": "execute_result",
          "data": {
            "text/plain": [
              "<Order total: 42.00 due: 39.90>"
            ]
          },
          "metadata": {},
          "execution_count": 21
        }
      ]
    },
    {
      "cell_type": "code",
      "source": [
        "globals().keys()"
      ],
      "metadata": {
        "colab": {
          "base_uri": "https://localhost:8080/"
        },
        "id": "opu6rxC99uwW",
        "outputId": "ffbd3074-3e25-477a-986f-b501c347bc5d"
      },
      "execution_count": 22,
      "outputs": [
        {
          "output_type": "execute_result",
          "data": {
            "text/plain": [
              "dict_keys(['__name__', '__doc__', '__package__', '__loader__', '__spec__', '__builtin__', '__builtins__', '_ih', '_oh', '_dh', 'In', 'Out', 'get_ipython', 'exit', 'quit', '_', '__', '___', '_i', '_ii', '_iii', '_i1', 'ABC', 'abstractmethod', 'namedtuple', 'Customer', 'jack', '_1', '_i2', 'LineItem', '_i3', 'Order', '_i4', 'Promotion', '_i5', 'FidelityPromo', 'BulkItemPromo', 'LargeOrderPromo', '_i6', 'joe', 'ann', 'cart', '_i7', '_7', '_i8', '_8', '_i9', 'banana_cart', '_9', '_i10', 'long_order', '_10', '_i11', '_11', '_i12', '_i13', 'fidelity_promo', 'bulk_item_promo', 'large_order_promo', '_i14', '_14', '_i15', '_15', '_i16', '_16', '_i17', '_17', '_i18', 'promos', 'best_promo', '_i19', '_19', '_i20', '_20', '_i21', '_21', '_i22'])"
            ]
          },
          "metadata": {},
          "execution_count": 22
        }
      ]
    },
    {
      "cell_type": "code",
      "source": [
        "globals()['best_promo']"
      ],
      "metadata": {
        "colab": {
          "base_uri": "https://localhost:8080/",
          "height": 103
        },
        "id": "J_doQhUk9wKe",
        "outputId": "42b29bc8-f2ea-4fce-b886-2585052fd690"
      },
      "execution_count": 25,
      "outputs": [
        {
          "output_type": "execute_result",
          "data": {
            "text/plain": [
              "<function __main__.best_promo(order)>"
            ],
            "text/html": [
              "<div style=\"max-width:800px; border: 1px solid var(--colab-border-color);\"><style>\n",
              "      pre.function-repr-contents {\n",
              "        overflow-x: auto;\n",
              "        padding: 8px 12px;\n",
              "        max-height: 500px;\n",
              "      }\n",
              "\n",
              "      pre.function-repr-contents.function-repr-contents-collapsed {\n",
              "        cursor: pointer;\n",
              "        max-height: 100px;\n",
              "      }\n",
              "    </style>\n",
              "    <pre style=\"white-space: initial; background:\n",
              "         var(--colab-secondary-surface-color); padding: 8px 12px;\n",
              "         border-bottom: 1px solid var(--colab-border-color);\"><b>best_promo</b><br/>def best_promo(order)</pre><pre class=\"function-repr-contents function-repr-contents-collapsed\" style=\"\"><a class=\"filepath\" style=\"display:none\" href=\"#\">/content/&lt;ipython-input-18-a8bd548ebca5&gt;</a>최대로 할인받을 금액을 반환</pre></div>"
            ]
          },
          "metadata": {},
          "execution_count": 25
        }
      ]
    },
    {
      "cell_type": "markdown",
      "source": [
        "예제 6"
      ],
      "metadata": {
        "id": "Zd9c1SOD9gFH"
      }
    },
    {
      "cell_type": "code",
      "source": [
        "promos = [globals()[name] for name in globals()\n",
        "          if name.endswith('_promo')\n",
        "          and name != 'best_promo']  # 재귀호출을 피하기 위해 'best_promo' 제외\n",
        "\n",
        "promos\n"
      ],
      "metadata": {
        "colab": {
          "base_uri": "https://localhost:8080/"
        },
        "id": "WIVGLFOB9_x9",
        "outputId": "f9fd50c1-f799-4dbd-d0c8-2f7622c82d07"
      },
      "execution_count": 26,
      "outputs": [
        {
          "output_type": "execute_result",
          "data": {
            "text/plain": [
              "[<function __main__.fidelity_promo(order)>,\n",
              " <function __main__.bulk_item_promo(order)>,\n",
              " <function __main__.large_order_promo(order)>]"
            ]
          },
          "metadata": {},
          "execution_count": 26
        }
      ]
    },
    {
      "cell_type": "markdown",
      "source": [
        "## Function Decorators and Closures"
      ],
      "metadata": {
        "id": "q1gxdc_D-Qps"
      }
    },
    {
      "cell_type": "markdown",
      "source": [
        "예제 1"
      ],
      "metadata": {
        "id": "JQVrwBu6MkZX"
      }
    },
    {
      "cell_type": "code",
      "source": [
        "def deco(func):\n",
        "    def inner():\n",
        "        print('running inner()')\n",
        "    return inner\n",
        "\n",
        "@deco\n",
        "def target():\n",
        "    print(\"running target()\")\n",
        "\n",
        "target()  # 실제로는 inner()를 실행\n"
      ],
      "metadata": {
        "colab": {
          "base_uri": "https://localhost:8080/"
        },
        "id": "hkk3grDkMnDP",
        "outputId": "c6555d2a-2db7-4dbd-be77-b4067fb4facf"
      },
      "execution_count": 27,
      "outputs": [
        {
          "output_type": "stream",
          "name": "stdout",
          "text": [
            "running inner()\n"
          ]
        }
      ]
    },
    {
      "cell_type": "code",
      "source": [
        "target  # inner()를 가리킴"
      ],
      "metadata": {
        "colab": {
          "base_uri": "https://localhost:8080/",
          "height": 103
        },
        "id": "6pLGcYXn-vGz",
        "outputId": "ed5e7dec-bba1-4553-b368-4b1c6e652a42"
      },
      "execution_count": 28,
      "outputs": [
        {
          "output_type": "execute_result",
          "data": {
            "text/plain": [
              "<function __main__.deco.<locals>.inner()>"
            ],
            "text/html": [
              "<div style=\"max-width:800px; border: 1px solid var(--colab-border-color);\"><style>\n",
              "      pre.function-repr-contents {\n",
              "        overflow-x: auto;\n",
              "        padding: 8px 12px;\n",
              "        max-height: 500px;\n",
              "      }\n",
              "\n",
              "      pre.function-repr-contents.function-repr-contents-collapsed {\n",
              "        cursor: pointer;\n",
              "        max-height: 100px;\n",
              "      }\n",
              "    </style>\n",
              "    <pre style=\"white-space: initial; background:\n",
              "         var(--colab-secondary-surface-color); padding: 8px 12px;\n",
              "         border-bottom: 1px solid var(--colab-border-color);\"><b>deco.&lt;locals&gt;.inner</b><br/>def inner()</pre><pre class=\"function-repr-contents function-repr-contents-collapsed\" style=\"\"><a class=\"filepath\" style=\"display:none\" href=\"#\">/content/&lt;ipython-input-27-3ebd3f5b86d2&gt;</a>&lt;no docstring&gt;</pre></div>"
            ]
          },
          "metadata": {},
          "execution_count": 28
        }
      ]
    },
    {
      "cell_type": "markdown",
      "source": [
        "예제2"
      ],
      "metadata": {
        "id": "dEiRlosCMz_c"
      }
    },
    {
      "cell_type": "code",
      "source": [
        "registry = []  # 여기에 decorated function 추가\n",
        "\n",
        "def register(func):\n",
        "    print('running register(%s)' % func)\n",
        "    registry.append(func)\n",
        "    return func\n",
        "\n",
        "@register\n",
        "def f1():\n",
        "    print('running f1()')\n",
        "\n",
        "@register\n",
        "def f2():\n",
        "    print('running f2()')\n",
        "\n",
        "def f3():\n",
        "    print('running f3()')\n",
        "\n",
        "def main():\n",
        "    print('running main()')\n",
        "    print('registry ->', registry)\n",
        "    f1()\n",
        "    f2()\n",
        "    f3()\n",
        "\n",
        "if __name__ == '__main__':\n",
        "    main()\n"
      ],
      "metadata": {
        "colab": {
          "base_uri": "https://localhost:8080/"
        },
        "id": "T_43IbukM2Zz",
        "outputId": "04b654e7-2621-42ab-c0c6-9f3b74c19157"
      },
      "execution_count": 29,
      "outputs": [
        {
          "output_type": "stream",
          "name": "stdout",
          "text": [
            "running register(<function f1 at 0x7e4ba99605e0>)\n",
            "running register(<function f2 at 0x7e4ba99603a0>)\n",
            "running main()\n",
            "registry -> [<function f1 at 0x7e4ba99605e0>, <function f2 at 0x7e4ba99603a0>]\n",
            "running f1()\n",
            "running f2()\n",
            "running f3()\n"
          ]
        }
      ]
    },
    {
      "cell_type": "markdown",
      "source": [
        "예제 3"
      ],
      "metadata": {
        "id": "LU3lBNhWM-xy"
      }
    },
    {
      "cell_type": "code",
      "source": [
        "promos = []\n",
        "\n",
        "def promotion(promo_func):\n",
        "    \"\"\"promotion() decorator는 promo_func를 promos 리스트에 추가한 후 그대로 반환\"\"\"\n",
        "    promos.append(promo_func)\n",
        "    return promo_func\n",
        "\n",
        "@promotion\n",
        "def fidelity_promo(order):\n",
        "    \"\"\"충성도 점수가 1000점 이상인 고객에게 전체 5% 할인 적용\"\"\"\n",
        "    return order.total() * 0.05 if order.customer.fidelity >= 1000 else 0\n",
        "\n",
        "@promotion\n",
        "def bulk_item_promo(order):\n",
        "    \"\"\"20개 이상의 동일 상품을 구매하면 10% 할인 적용\"\"\"\n",
        "    discount = 0\n",
        "    for item in order.cart:\n",
        "        if item.quantity >= 20:\n",
        "            discount += item.total() * 0.1\n",
        "    return discount\n",
        "\n",
        "@promotion\n",
        "def large_order_promo(order):\n",
        "    \"\"\"10종류 이상의 상품을 구매하면 전체 7% 할인 적용\"\"\"\n",
        "    distinct_items = {item.product for item in order.cart}\n",
        "    if len(distinct_items) >= 10:\n",
        "        return order.total() * 0.07\n",
        "    return 0\n",
        "\n",
        "def best_promo(order):\n",
        "    \"\"\"최대로 할인받을 금액을 반환한다.\"\"\"\n",
        "    return max(promo(order) for promo in promos)\n"
      ],
      "metadata": {
        "id": "yb6PWHLcM__n"
      },
      "execution_count": 30,
      "outputs": []
    },
    {
      "cell_type": "markdown",
      "source": [
        "예제 4"
      ],
      "metadata": {
        "id": "hr8-op_TOWVj"
      }
    },
    {
      "cell_type": "code",
      "execution_count": 31,
      "metadata": {
        "colab": {
          "base_uri": "https://localhost:8080/",
          "height": 315
        },
        "id": "WalW8csT_8e-",
        "outputId": "01ecf5d9-c5b6-4bea-e5f4-0848dab6ebfe"
      },
      "outputs": [
        {
          "output_type": "stream",
          "name": "stdout",
          "text": [
            "3\n"
          ]
        },
        {
          "output_type": "error",
          "ename": "NameError",
          "evalue": "name 'b' is not defined",
          "traceback": [
            "\u001b[0;31m---------------------------------------------------------------------------\u001b[0m",
            "\u001b[0;31mNameError\u001b[0m                                 Traceback (most recent call last)",
            "\u001b[0;32m<ipython-input-31-25d665eb58d1>\u001b[0m in \u001b[0;36m<cell line: 5>\u001b[0;34m()\u001b[0m\n\u001b[1;32m      3\u001b[0m     \u001b[0mprint\u001b[0m\u001b[0;34m(\u001b[0m\u001b[0mb\u001b[0m\u001b[0;34m)\u001b[0m\u001b[0;34m\u001b[0m\u001b[0;34m\u001b[0m\u001b[0m\n\u001b[1;32m      4\u001b[0m \u001b[0;34m\u001b[0m\u001b[0m\n\u001b[0;32m----> 5\u001b[0;31m \u001b[0mf1\u001b[0m\u001b[0;34m(\u001b[0m\u001b[0;36m3\u001b[0m\u001b[0;34m)\u001b[0m\u001b[0;34m\u001b[0m\u001b[0;34m\u001b[0m\u001b[0m\n\u001b[0m",
            "\u001b[0;32m<ipython-input-31-25d665eb58d1>\u001b[0m in \u001b[0;36mf1\u001b[0;34m(a)\u001b[0m\n\u001b[1;32m      1\u001b[0m \u001b[0;32mdef\u001b[0m \u001b[0mf1\u001b[0m\u001b[0;34m(\u001b[0m\u001b[0ma\u001b[0m\u001b[0;34m)\u001b[0m\u001b[0;34m:\u001b[0m\u001b[0;34m\u001b[0m\u001b[0;34m\u001b[0m\u001b[0m\n\u001b[1;32m      2\u001b[0m     \u001b[0mprint\u001b[0m\u001b[0;34m(\u001b[0m\u001b[0ma\u001b[0m\u001b[0;34m)\u001b[0m\u001b[0;34m\u001b[0m\u001b[0;34m\u001b[0m\u001b[0m\n\u001b[0;32m----> 3\u001b[0;31m     \u001b[0mprint\u001b[0m\u001b[0;34m(\u001b[0m\u001b[0mb\u001b[0m\u001b[0;34m)\u001b[0m\u001b[0;34m\u001b[0m\u001b[0;34m\u001b[0m\u001b[0m\n\u001b[0m\u001b[1;32m      4\u001b[0m \u001b[0;34m\u001b[0m\u001b[0m\n\u001b[1;32m      5\u001b[0m \u001b[0mf1\u001b[0m\u001b[0;34m(\u001b[0m\u001b[0;36m3\u001b[0m\u001b[0;34m)\u001b[0m\u001b[0;34m\u001b[0m\u001b[0;34m\u001b[0m\u001b[0m\n",
            "\u001b[0;31mNameError\u001b[0m: name 'b' is not defined"
          ]
        }
      ],
      "source": [
        "def f1(a):\n",
        "    print(a)\n",
        "    print(b)\n",
        "\n",
        "f1(3)\n"
      ]
    },
    {
      "cell_type": "code",
      "source": [
        "b = 6\n",
        "f1(3)\n"
      ],
      "metadata": {
        "colab": {
          "base_uri": "https://localhost:8080/"
        },
        "id": "VR6X6vrD7lLZ",
        "outputId": "72fa44b9-148c-4abc-ca6b-358699f7089d"
      },
      "execution_count": 32,
      "outputs": [
        {
          "output_type": "stream",
          "name": "stdout",
          "text": [
            "3\n",
            "6\n"
          ]
        }
      ]
    },
    {
      "cell_type": "markdown",
      "source": [
        "예제5"
      ],
      "metadata": {
        "id": "z8eKoOkJOYSp"
      }
    },
    {
      "cell_type": "code",
      "source": [
        "b = 6\n",
        "def f2(a):\n",
        "    print(a)\n",
        "    print(b)\n",
        "    b = 9\n",
        "\n",
        "f2(3)\n"
      ],
      "metadata": {
        "colab": {
          "base_uri": "https://localhost:8080/",
          "height": 315
        },
        "id": "IT4s-KZpDAvS",
        "outputId": "691d8118-6d57-4ea4-c3c9-9d9ddf0ebfc4"
      },
      "execution_count": 33,
      "outputs": [
        {
          "output_type": "stream",
          "name": "stdout",
          "text": [
            "3\n"
          ]
        },
        {
          "output_type": "error",
          "ename": "UnboundLocalError",
          "evalue": "local variable 'b' referenced before assignment",
          "traceback": [
            "\u001b[0;31m---------------------------------------------------------------------------\u001b[0m",
            "\u001b[0;31mUnboundLocalError\u001b[0m                         Traceback (most recent call last)",
            "\u001b[0;32m<ipython-input-33-55c0dd1a1ffb>\u001b[0m in \u001b[0;36m<cell line: 7>\u001b[0;34m()\u001b[0m\n\u001b[1;32m      5\u001b[0m     \u001b[0mb\u001b[0m \u001b[0;34m=\u001b[0m \u001b[0;36m9\u001b[0m\u001b[0;34m\u001b[0m\u001b[0;34m\u001b[0m\u001b[0m\n\u001b[1;32m      6\u001b[0m \u001b[0;34m\u001b[0m\u001b[0m\n\u001b[0;32m----> 7\u001b[0;31m \u001b[0mf2\u001b[0m\u001b[0;34m(\u001b[0m\u001b[0;36m3\u001b[0m\u001b[0;34m)\u001b[0m\u001b[0;34m\u001b[0m\u001b[0;34m\u001b[0m\u001b[0m\n\u001b[0m",
            "\u001b[0;32m<ipython-input-33-55c0dd1a1ffb>\u001b[0m in \u001b[0;36mf2\u001b[0;34m(a)\u001b[0m\n\u001b[1;32m      2\u001b[0m \u001b[0;32mdef\u001b[0m \u001b[0mf2\u001b[0m\u001b[0;34m(\u001b[0m\u001b[0ma\u001b[0m\u001b[0;34m)\u001b[0m\u001b[0;34m:\u001b[0m\u001b[0;34m\u001b[0m\u001b[0;34m\u001b[0m\u001b[0m\n\u001b[1;32m      3\u001b[0m     \u001b[0mprint\u001b[0m\u001b[0;34m(\u001b[0m\u001b[0ma\u001b[0m\u001b[0;34m)\u001b[0m\u001b[0;34m\u001b[0m\u001b[0;34m\u001b[0m\u001b[0m\n\u001b[0;32m----> 4\u001b[0;31m     \u001b[0mprint\u001b[0m\u001b[0;34m(\u001b[0m\u001b[0mb\u001b[0m\u001b[0;34m)\u001b[0m\u001b[0;34m\u001b[0m\u001b[0;34m\u001b[0m\u001b[0m\n\u001b[0m\u001b[1;32m      5\u001b[0m     \u001b[0mb\u001b[0m \u001b[0;34m=\u001b[0m \u001b[0;36m9\u001b[0m\u001b[0;34m\u001b[0m\u001b[0;34m\u001b[0m\u001b[0m\n\u001b[1;32m      6\u001b[0m \u001b[0;34m\u001b[0m\u001b[0m\n",
            "\u001b[0;31mUnboundLocalError\u001b[0m: local variable 'b' referenced before assignment"
          ]
        }
      ]
    },
    {
      "cell_type": "markdown",
      "source": [
        "예제 6"
      ],
      "metadata": {
        "id": "qK7k2Ng1_Y5q"
      }
    },
    {
      "cell_type": "code",
      "source": [
        "b = 6\n",
        "def f3(a):\n",
        "    global b\n",
        "    print(a)\n",
        "    print(b)\n",
        "    b = 9\n",
        "\n",
        "f3(3)\n"
      ],
      "metadata": {
        "colab": {
          "base_uri": "https://localhost:8080/"
        },
        "id": "dwVYMPxl_ak8",
        "outputId": "e443cedd-d437-4526-8ad6-2e89272204fb"
      },
      "execution_count": 34,
      "outputs": [
        {
          "output_type": "stream",
          "name": "stdout",
          "text": [
            "3\n",
            "6\n"
          ]
        }
      ]
    },
    {
      "cell_type": "code",
      "source": [
        "f3(3)\n",
        "\n",
        "b = 30\n",
        "f3(3)\n"
      ],
      "metadata": {
        "colab": {
          "base_uri": "https://localhost:8080/"
        },
        "id": "493JiA9P_e8Z",
        "outputId": "587105e8-bcad-41e4-b978-ea2cd56c23d2"
      },
      "execution_count": 35,
      "outputs": [
        {
          "output_type": "stream",
          "name": "stdout",
          "text": [
            "3\n",
            "9\n",
            "3\n",
            "30\n"
          ]
        }
      ]
    },
    {
      "cell_type": "markdown",
      "source": [
        "예제 7"
      ],
      "metadata": {
        "id": "hb0jTYFX_uY6"
      }
    },
    {
      "cell_type": "code",
      "source": [
        "class Averager():\n",
        "    def __init__(self):\n",
        "        self.series = []\n",
        "\n",
        "    def __call__(self, new_value):\n",
        "        self.series.append(new_value)\n",
        "        total = sum(self.series)\n",
        "        return total / len(self.series)\n",
        "\n",
        "avg = Averager()\n"
      ],
      "metadata": {
        "id": "DfbjhcqQ_vHA"
      },
      "execution_count": 40,
      "outputs": []
    },
    {
      "cell_type": "code",
      "source": [
        "avg(10)"
      ],
      "metadata": {
        "colab": {
          "base_uri": "https://localhost:8080/"
        },
        "id": "EjSz_K9E_0Kb",
        "outputId": "850b2b83-460e-471f-d075-dc5833a396b4"
      },
      "execution_count": 41,
      "outputs": [
        {
          "output_type": "execute_result",
          "data": {
            "text/plain": [
              "10.0"
            ]
          },
          "metadata": {},
          "execution_count": 41
        }
      ]
    },
    {
      "cell_type": "code",
      "source": [
        "avg(11)"
      ],
      "metadata": {
        "colab": {
          "base_uri": "https://localhost:8080/"
        },
        "id": "h0JEO1Nf_23N",
        "outputId": "ae30172b-e93a-4f3b-b9bb-58b4bf8b2a39"
      },
      "execution_count": 42,
      "outputs": [
        {
          "output_type": "execute_result",
          "data": {
            "text/plain": [
              "10.5"
            ]
          },
          "metadata": {},
          "execution_count": 42
        }
      ]
    },
    {
      "cell_type": "code",
      "source": [
        "avg(12)"
      ],
      "metadata": {
        "colab": {
          "base_uri": "https://localhost:8080/"
        },
        "id": "Ap1nRHHp_3uv",
        "outputId": "1dbaef35-4dc3-4009-95b2-672fcd08bfe7"
      },
      "execution_count": 43,
      "outputs": [
        {
          "output_type": "execute_result",
          "data": {
            "text/plain": [
              "11.0"
            ]
          },
          "metadata": {},
          "execution_count": 43
        }
      ]
    },
    {
      "cell_type": "markdown",
      "source": [
        "예제 8"
      ],
      "metadata": {
        "id": "JA5Md1rVAEUk"
      }
    },
    {
      "cell_type": "code",
      "source": [
        "def make_averager():\n",
        "    series = []\n",
        "\n",
        "    def averager(new_value):\n",
        "        series.append(new_value)\n",
        "        total = sum(series)\n",
        "        return total / len(series)\n",
        "\n",
        "    return averager\n",
        "\n",
        "avg = make_averager()\n",
        "\n"
      ],
      "metadata": {
        "id": "-oZrKKelAE-_"
      },
      "execution_count": 45,
      "outputs": []
    },
    {
      "cell_type": "code",
      "source": [
        "avg(10)  # 10.0\n"
      ],
      "metadata": {
        "colab": {
          "base_uri": "https://localhost:8080/"
        },
        "id": "Y3OZXkSIAHf7",
        "outputId": "aabf0307-e56b-4add-f956-f0aca57fca80"
      },
      "execution_count": 46,
      "outputs": [
        {
          "output_type": "execute_result",
          "data": {
            "text/plain": [
              "10.0"
            ]
          },
          "metadata": {},
          "execution_count": 46
        }
      ]
    },
    {
      "cell_type": "code",
      "source": [
        "avg(11)\n"
      ],
      "metadata": {
        "colab": {
          "base_uri": "https://localhost:8080/"
        },
        "id": "_yTxH6zeAKYT",
        "outputId": "540d1215-3da4-47d0-e806-c5ed9740995e"
      },
      "execution_count": 47,
      "outputs": [
        {
          "output_type": "execute_result",
          "data": {
            "text/plain": [
              "10.5"
            ]
          },
          "metadata": {},
          "execution_count": 47
        }
      ]
    },
    {
      "cell_type": "code",
      "source": [
        "avg(12)"
      ],
      "metadata": {
        "colab": {
          "base_uri": "https://localhost:8080/"
        },
        "id": "GZSilSXdANCH",
        "outputId": "64ccf7e0-a713-4482-c6cd-1a642cbbdd60"
      },
      "execution_count": 48,
      "outputs": [
        {
          "output_type": "execute_result",
          "data": {
            "text/plain": [
              "11.0"
            ]
          },
          "metadata": {},
          "execution_count": 48
        }
      ]
    },
    {
      "cell_type": "markdown",
      "source": [
        "예제9"
      ],
      "metadata": {
        "id": "Ahs-LGIIAjS1"
      }
    },
    {
      "cell_type": "code",
      "source": [
        "avg.__code__.co_varnames\n"
      ],
      "metadata": {
        "colab": {
          "base_uri": "https://localhost:8080/"
        },
        "id": "iRu3PxfYAkQz",
        "outputId": "8551031a-eda0-4731-943c-af42d7dbf141"
      },
      "execution_count": 49,
      "outputs": [
        {
          "output_type": "execute_result",
          "data": {
            "text/plain": [
              "('new_value', 'total')"
            ]
          },
          "metadata": {},
          "execution_count": 49
        }
      ]
    },
    {
      "cell_type": "code",
      "source": [
        "avg.__code__.co_freevars\n"
      ],
      "metadata": {
        "colab": {
          "base_uri": "https://localhost:8080/"
        },
        "id": "ad6C9Y4DAm7k",
        "outputId": "6587891c-9497-4ff6-ac89-ebf1ae1f0c3a"
      },
      "execution_count": 50,
      "outputs": [
        {
          "output_type": "execute_result",
          "data": {
            "text/plain": [
              "('series',)"
            ]
          },
          "metadata": {},
          "execution_count": 50
        }
      ]
    },
    {
      "cell_type": "code",
      "source": [
        "avg.__closure__\n"
      ],
      "metadata": {
        "colab": {
          "base_uri": "https://localhost:8080/"
        },
        "id": "d63-PXBkAoVk",
        "outputId": "d316f0e1-99e1-43b0-eecf-2c8bd493cb6b"
      },
      "execution_count": 51,
      "outputs": [
        {
          "output_type": "execute_result",
          "data": {
            "text/plain": [
              "(<cell at 0x7e4ba9fdb1f0: list object at 0x7e4ba94983c0>,)"
            ]
          },
          "metadata": {},
          "execution_count": 51
        }
      ]
    },
    {
      "cell_type": "code",
      "source": [
        "avg.__closure__[0].cell_contents\n"
      ],
      "metadata": {
        "colab": {
          "base_uri": "https://localhost:8080/"
        },
        "id": "njVFBM46Apxl",
        "outputId": "72734388-1aa4-4b10-dcdd-f8ed55ec97db"
      },
      "execution_count": 52,
      "outputs": [
        {
          "output_type": "execute_result",
          "data": {
            "text/plain": [
              "[10, 11, 12]"
            ]
          },
          "metadata": {},
          "execution_count": 52
        }
      ]
    },
    {
      "cell_type": "markdown",
      "source": [
        "예제 10"
      ],
      "metadata": {
        "id": "1HphFSHAAyAn"
      }
    },
    {
      "cell_type": "code",
      "source": [
        "def make_averager():\n",
        "    count = 0\n",
        "    total = 0\n",
        "\n",
        "    def averager(new_value):\n",
        "        count += 1\n",
        "        total += new_value\n",
        "        return total / count\n",
        "\n",
        "    return averager\n"
      ],
      "metadata": {
        "id": "2I7fGYleAzVE"
      },
      "execution_count": 58,
      "outputs": []
    },
    {
      "cell_type": "code",
      "source": [
        "avg = make_averager()\n",
        "avg(10)"
      ],
      "metadata": {
        "colab": {
          "base_uri": "https://localhost:8080/",
          "height": 280
        },
        "id": "dU0xaPKPA9nS",
        "outputId": "aa694575-062f-4646-e8c6-123cecbb8453"
      },
      "execution_count": 59,
      "outputs": [
        {
          "output_type": "error",
          "ename": "UnboundLocalError",
          "evalue": "local variable 'count' referenced before assignment",
          "traceback": [
            "\u001b[0;31m---------------------------------------------------------------------------\u001b[0m",
            "\u001b[0;31mUnboundLocalError\u001b[0m                         Traceback (most recent call last)",
            "\u001b[0;32m<ipython-input-59-b5a6bb6dc4cd>\u001b[0m in \u001b[0;36m<cell line: 2>\u001b[0;34m()\u001b[0m\n\u001b[1;32m      1\u001b[0m \u001b[0mavg\u001b[0m \u001b[0;34m=\u001b[0m \u001b[0mmake_averager\u001b[0m\u001b[0;34m(\u001b[0m\u001b[0;34m)\u001b[0m\u001b[0;34m\u001b[0m\u001b[0;34m\u001b[0m\u001b[0m\n\u001b[0;32m----> 2\u001b[0;31m \u001b[0mavg\u001b[0m\u001b[0;34m(\u001b[0m\u001b[0;36m10\u001b[0m\u001b[0;34m)\u001b[0m\u001b[0;34m\u001b[0m\u001b[0;34m\u001b[0m\u001b[0m\n\u001b[0m",
            "\u001b[0;32m<ipython-input-58-6dc3302d218e>\u001b[0m in \u001b[0;36maverager\u001b[0;34m(new_value)\u001b[0m\n\u001b[1;32m      4\u001b[0m \u001b[0;34m\u001b[0m\u001b[0m\n\u001b[1;32m      5\u001b[0m     \u001b[0;32mdef\u001b[0m \u001b[0maverager\u001b[0m\u001b[0;34m(\u001b[0m\u001b[0mnew_value\u001b[0m\u001b[0;34m)\u001b[0m\u001b[0;34m:\u001b[0m\u001b[0;34m\u001b[0m\u001b[0;34m\u001b[0m\u001b[0m\n\u001b[0;32m----> 6\u001b[0;31m         \u001b[0mcount\u001b[0m \u001b[0;34m+=\u001b[0m \u001b[0;36m1\u001b[0m\u001b[0;34m\u001b[0m\u001b[0;34m\u001b[0m\u001b[0m\n\u001b[0m\u001b[1;32m      7\u001b[0m         \u001b[0mtotal\u001b[0m \u001b[0;34m+=\u001b[0m \u001b[0mnew_value\u001b[0m\u001b[0;34m\u001b[0m\u001b[0;34m\u001b[0m\u001b[0m\n\u001b[1;32m      8\u001b[0m         \u001b[0;32mreturn\u001b[0m \u001b[0mtotal\u001b[0m \u001b[0;34m/\u001b[0m \u001b[0mcount\u001b[0m\u001b[0;34m\u001b[0m\u001b[0;34m\u001b[0m\u001b[0m\n",
            "\u001b[0;31mUnboundLocalError\u001b[0m: local variable 'count' referenced before assignment"
          ]
        }
      ]
    },
    {
      "cell_type": "markdown",
      "source": [
        "예제 11"
      ],
      "metadata": {
        "id": "rZBp1CBFBHip"
      }
    },
    {
      "cell_type": "code",
      "source": [
        "def make_averager():\n",
        "    count = 0\n",
        "    total = 0\n",
        "\n",
        "    def averager(new_value):\n",
        "        nonlocal count, total\n",
        "        count += 1\n",
        "        total += new_value\n",
        "        return total / count\n",
        "\n",
        "    return averager"
      ],
      "metadata": {
        "id": "MGqdfLZYBIP_"
      },
      "execution_count": 60,
      "outputs": []
    },
    {
      "cell_type": "code",
      "source": [
        "avg = make_averager()\n",
        "avg(10)"
      ],
      "metadata": {
        "colab": {
          "base_uri": "https://localhost:8080/"
        },
        "id": "O_9sN2f5Bh1j",
        "outputId": "d30fdd58-537e-4748-c987-b5c8b83240dc"
      },
      "execution_count": 61,
      "outputs": [
        {
          "output_type": "execute_result",
          "data": {
            "text/plain": [
              "10.0"
            ]
          },
          "metadata": {},
          "execution_count": 61
        }
      ]
    },
    {
      "cell_type": "markdown",
      "source": [
        "예제 12"
      ],
      "metadata": {
        "id": "nIcMtF0KBt9M"
      }
    },
    {
      "cell_type": "code",
      "source": [
        "import time\n",
        "\n",
        "def clock(func):\n",
        "    def clocked(*args):\n",
        "        t0 = time.perf_counter()\n",
        "        result = func(*args)\n",
        "        elapsed = time.perf_counter() - t0\n",
        "        name = func.__name__\n",
        "        arg_str = ', '.join(repr(arg) for arg in args)\n",
        "        print('[%0.8fs] %s(%s) -> %r' % (elapsed, name, arg_str, result))\n",
        "        return result\n",
        "    return clocked\n"
      ],
      "metadata": {
        "id": "v4KlSyz3BvOa"
      },
      "execution_count": 62,
      "outputs": []
    },
    {
      "cell_type": "markdown",
      "source": [
        "예제 13"
      ],
      "metadata": {
        "id": "1DZvI12YBv3E"
      }
    },
    {
      "cell_type": "code",
      "source": [
        "@clock\n",
        "def snooze(seconds):\n",
        "    time.sleep(seconds)\n",
        "\n",
        "@clock\n",
        "def factorial(n):\n",
        "    return 1 if n < 2 else n * factorial(n - 1)\n",
        "\n",
        "if __name__ == '__main__':\n",
        "    print('*' * 40, 'Calling snooze(.123)')\n",
        "    snooze(.123)\n",
        "    print('*' * 40, 'Calling factorial(6)')\n",
        "    print('6! =', factorial(6))\n"
      ],
      "metadata": {
        "colab": {
          "base_uri": "https://localhost:8080/"
        },
        "id": "WycAbYYgBwqi",
        "outputId": "be23d7c9-8078-4250-c893-2e6f05abc076"
      },
      "execution_count": 63,
      "outputs": [
        {
          "output_type": "stream",
          "name": "stdout",
          "text": [
            "**************************************** Calling snooze(.123)\n",
            "[0.12318568s] snooze(0.123) -> None\n",
            "**************************************** Calling factorial(6)\n",
            "[0.00000093s] factorial(1) -> 1\n",
            "[0.00005748s] factorial(2) -> 2\n",
            "[0.00009216s] factorial(3) -> 6\n",
            "[0.00012313s] factorial(4) -> 24\n",
            "[0.00015516s] factorial(5) -> 120\n",
            "[0.00018969s] factorial(6) -> 720\n",
            "6! = 720\n"
          ]
        }
      ]
    },
    {
      "cell_type": "code",
      "source": [
        "factorial.__name__\n"
      ],
      "metadata": {
        "colab": {
          "base_uri": "https://localhost:8080/",
          "height": 35
        },
        "id": "XTMss6KOB5v6",
        "outputId": "83b5299a-e67b-4a9b-8002-867a82dcd053"
      },
      "execution_count": 64,
      "outputs": [
        {
          "output_type": "execute_result",
          "data": {
            "text/plain": [
              "'clocked'"
            ],
            "application/vnd.google.colaboratory.intrinsic+json": {
              "type": "string"
            }
          },
          "metadata": {},
          "execution_count": 64
        }
      ]
    },
    {
      "cell_type": "markdown",
      "source": [
        "예제 14"
      ],
      "metadata": {
        "id": "pj3perLqCARQ"
      }
    },
    {
      "cell_type": "code",
      "source": [
        "import time\n",
        "import functools\n",
        "\n",
        "def clock(func):\n",
        "    @functools.wraps(func)\n",
        "    def clocked(*args, **kwargs):\n",
        "        t0 = time.time()\n",
        "        result = func(*args, **kwargs)\n",
        "        elapsed = time.time() - t0\n",
        "        arg_lst = []\n",
        "        name = func.__name__\n",
        "        if args:\n",
        "            arg_lst.append(', '.join(repr(arg) for arg in args))\n",
        "        if kwargs:\n",
        "            pairs = ['%s=%r' % (k, w) for k, w in sorted(kwargs.items())]\n",
        "            arg_lst.append(', '.join(pairs))\n",
        "        arg_str = ' '.join(arg_lst)\n",
        "        print('[%0.8fs] %s(%s) -> %r' % (elapsed, name, arg_str, result))\n",
        "        return result\n",
        "    return clocked\n"
      ],
      "metadata": {
        "id": "ewE1QboxCA6J"
      },
      "execution_count": 65,
      "outputs": []
    },
    {
      "cell_type": "code",
      "source": [
        "@clock\n",
        "def snooze(seconds):\n",
        "    time.sleep(seconds)\n",
        "\n",
        "@clock\n",
        "def factorial(n):\n",
        "    return 1 if n < 2 else n * factorial(n - 1)\n",
        "\n",
        "if __name__ == '__main__':\n",
        "    print('*' * 40, 'Calling snooze(.123)')\n",
        "    snooze(.123)\n",
        "    print('*' * 40, 'Calling factorial(6)')\n",
        "    print('6! =', factorial(6))\n"
      ],
      "metadata": {
        "colab": {
          "base_uri": "https://localhost:8080/"
        },
        "id": "X9i3LwOwCJ_6",
        "outputId": "0b75823f-1e6c-44a0-941a-edf99bd9d78b"
      },
      "execution_count": 66,
      "outputs": [
        {
          "output_type": "stream",
          "name": "stdout",
          "text": [
            "**************************************** Calling snooze(.123)\n",
            "[0.12322187s] snooze(0.123) -> None\n",
            "**************************************** Calling factorial(6)\n",
            "[0.00000072s] factorial(1) -> 1\n",
            "[0.00005555s] factorial(2) -> 2\n",
            "[0.00008965s] factorial(3) -> 6\n",
            "[0.00012279s] factorial(4) -> 24\n",
            "[0.00016904s] factorial(5) -> 120\n",
            "[0.00020981s] factorial(6) -> 720\n",
            "6! = 720\n"
          ]
        }
      ]
    },
    {
      "cell_type": "code",
      "source": [
        "factorial.__name__\n"
      ],
      "metadata": {
        "id": "sHNccupYCMb-",
        "outputId": "89826b96-bbdb-446e-baba-bd464bf3e356",
        "colab": {
          "base_uri": "https://localhost:8080/",
          "height": 35
        }
      },
      "execution_count": 67,
      "outputs": [
        {
          "output_type": "execute_result",
          "data": {
            "text/plain": [
              "'factorial'"
            ],
            "application/vnd.google.colaboratory.intrinsic+json": {
              "type": "string"
            }
          },
          "metadata": {},
          "execution_count": 67
        }
      ]
    }
  ]
}