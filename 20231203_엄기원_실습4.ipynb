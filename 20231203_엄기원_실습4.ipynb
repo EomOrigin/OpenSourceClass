{
  "nbformat": 4,
  "nbformat_minor": 0,
  "metadata": {
    "colab": {
      "provenance": []
    },
    "kernelspec": {
      "name": "python3",
      "display_name": "Python 3"
    },
    "language_info": {
      "name": "python"
    }
  },
  "cells": [
    {
      "cell_type": "markdown",
      "source": [
        "예제1. 인코딩과 디코딩"
      ],
      "metadata": {
        "id": "hr8-op_TOWVj"
      }
    },
    {
      "cell_type": "code",
      "execution_count": 14,
      "metadata": {
        "colab": {
          "base_uri": "https://localhost:8080/"
        },
        "id": "WalW8csT_8e-",
        "outputId": "373820dd-1dcd-45cb-d194-6f406c775766"
      },
      "outputs": [
        {
          "output_type": "execute_result",
          "data": {
            "text/plain": [
              "4"
            ]
          },
          "metadata": {},
          "execution_count": 14
        }
      ],
      "source": [
        "s = 'cafe'\n",
        "len(s)\n",
        "\n",
        "\n",
        "\n"
      ]
    },
    {
      "cell_type": "code",
      "source": [
        "b = s.encode('utf8')\n",
        "b"
      ],
      "metadata": {
        "colab": {
          "base_uri": "https://localhost:8080/"
        },
        "id": "y89GWDHE9idw",
        "outputId": "e6bb4665-d0d3-452d-c7ab-c7c731a0c35f"
      },
      "execution_count": 15,
      "outputs": [
        {
          "output_type": "execute_result",
          "data": {
            "text/plain": [
              "b'cafe'"
            ]
          },
          "metadata": {},
          "execution_count": 15
        }
      ]
    },
    {
      "cell_type": "code",
      "source": [
        "len(b)\n",
        "\n",
        "b.decode('utf8')"
      ],
      "metadata": {
        "colab": {
          "base_uri": "https://localhost:8080/",
          "height": 35
        },
        "id": "6KC9WCVr9hVX",
        "outputId": "8a863670-b476-4a2a-c6dc-95988f21fee5"
      },
      "execution_count": 16,
      "outputs": [
        {
          "output_type": "execute_result",
          "data": {
            "text/plain": [
              "'cafe'"
            ],
            "application/vnd.google.colaboratory.intrinsic+json": {
              "type": "string"
            }
          },
          "metadata": {},
          "execution_count": 16
        }
      ]
    },
    {
      "cell_type": "markdown",
      "source": [
        "예제2"
      ],
      "metadata": {
        "id": "z8eKoOkJOYSp"
      }
    },
    {
      "cell_type": "code",
      "source": [
        "cafe = bytes('café', encoding='utf_8')\n",
        "print(cafe)\n",
        "# 출력: b'caf\\xc3\\xa9'\n",
        "\n",
        "print(cafe[0])  # 각 항목은 range(256)에 들어가는 정수이다.\n",
        "# 출력: 99\n",
        "\n",
        "print(cafe[:1])  # bytes는 슬라이싱해도 bytes이다. 슬라이싱이 한 바이트일 때도 마찬가지다.\n",
        "# 출력: b'c'\n",
        "\n",
        "cafe_arr = bytearray(cafe)\n",
        "print(cafe_arr)\n",
        "# 출력: bytearray(b'caf\\xc3\\xa9')\n",
        "\n",
        "print(cafe_arr[-1:])\n",
        "# 출력: bytearray(b'\\xa9')\n"
      ],
      "metadata": {
        "colab": {
          "base_uri": "https://localhost:8080/"
        },
        "id": "IT4s-KZpDAvS",
        "outputId": "58b5dd2b-27c1-41c7-a28e-3e401f70bd37"
      },
      "execution_count": 17,
      "outputs": [
        {
          "output_type": "stream",
          "name": "stdout",
          "text": [
            "b'caf\\xc3\\xa9'\n",
            "99\n",
            "b'c'\n",
            "bytearray(b'caf\\xc3\\xa9')\n",
            "bytearray(b'\\xa9')\n"
          ]
        }
      ]
    },
    {
      "cell_type": "markdown",
      "source": [
        "예제3"
      ],
      "metadata": {
        "id": "tpPBBUCqOaE0"
      }
    },
    {
      "cell_type": "code",
      "source": [
        "bytes_seq = bytes.fromhex('31 4B CE A9')\n",
        "print(bytes_seq)\n",
        "# 출력: b'1K\\xce\\xa9'\n"
      ],
      "metadata": {
        "id": "Oyn7foA0DfLp",
        "colab": {
          "base_uri": "https://localhost:8080/"
        },
        "outputId": "ecd0b4e1-3478-482e-8771-2d2aa143fd40"
      },
      "execution_count": 18,
      "outputs": [
        {
          "output_type": "stream",
          "name": "stdout",
          "text": [
            "b'1K\\xce\\xa9'\n"
          ]
        }
      ]
    },
    {
      "cell_type": "markdown",
      "source": [
        "예제4"
      ],
      "metadata": {
        "id": "AWpOs81XOcUI"
      }
    },
    {
      "cell_type": "code",
      "source": [
        "import array\n",
        "\n",
        "numbers = array.array('h', [-2, -1, 0, 1, 2])\n",
        "# 'h' 타입 코드는 short int(16비트) 형의 배열을 생성한다.\n",
        "print(numbers)\n",
        "# 출력: array('h', [-2, -1, 0, 1, 2])\n",
        "\n",
        "octets = bytes(numbers)\n",
        "print(octets)\n",
        "# 출력: b'\\xfe\\xff\\xff\\xff\\x00\\x00\\x01\\x00\\x02\\x00'\n"
      ],
      "metadata": {
        "id": "hMUUQqkUDg71",
        "colab": {
          "base_uri": "https://localhost:8080/"
        },
        "outputId": "8b033bc2-4a56-4940-abfd-bbe4eb3f4637"
      },
      "execution_count": 19,
      "outputs": [
        {
          "output_type": "stream",
          "name": "stdout",
          "text": [
            "array('h', [-2, -1, 0, 1, 2])\n",
            "b'\\xfe\\xff\\xff\\xff\\x00\\x00\\x01\\x00\\x02\\x00'\n"
          ]
        }
      ]
    },
    {
      "cell_type": "markdown",
      "source": [
        "예제5"
      ],
      "metadata": {
        "id": "X35xIVKbOdrH"
      }
    },
    {
      "cell_type": "code",
      "source": [
        "import struct\n",
        "\n",
        "# struct 포맷을 지정.\n",
        "# <는 리틀엔디언, 3s3s는 3바이트 시퀀스, HH는 16비트 정수 두 개를 나타냄\n",
        "fmt = '<3s3sHH'\n",
        "\n",
        "with open('./simpsons.gif', 'rb') as fp:\n",
        "    img = memoryview(fp.read())\n",
        "\n",
        "header = img[:10]\n",
        "print(bytes(header))\n",
        "# 출력: b'GIF89a\\xf3\\x01\\x01\\x00'\n",
        "\n",
        "# struct.unpack을 통해 해더를 해석 (종류, 버전, 너비, 높이 튜플로 언패킹)\n",
        "print(struct.unpack(fmt, header))\n",
        "# 출력: (b'GIF', b'89a', 499, 363)\n",
        "\n",
        "# memoryview 객체에 연결된 메모리 해제를 위해 참조 삭제\n",
        "del header\n",
        "del img\n"
      ],
      "metadata": {
        "id": "wtq6SeN2DjoX",
        "colab": {
          "base_uri": "https://localhost:8080/"
        },
        "outputId": "88dee4b7-9a98-4ad6-ef8f-fae185b495b4"
      },
      "execution_count": 20,
      "outputs": [
        {
          "output_type": "stream",
          "name": "stdout",
          "text": [
            "b'GIF89a\\xf3\\x01k\\x01'\n",
            "(b'GIF', b'89a', 499, 363)\n"
          ]
        }
      ]
    },
    {
      "cell_type": "markdown",
      "source": [
        "예제6"
      ],
      "metadata": {
        "id": "aRyfkdZ7Ot94"
      }
    },
    {
      "cell_type": "code",
      "source": [
        "for codec in ['latin_1', 'utf8', 'utf16']:\n",
        "    print(codec, 'El Niño'.encode(codec), sep='\\t')\n",
        "# 출력:\n",
        "# latin_1\tb'El Ni\\xf1o'\n",
        "# utf8\t    b'El Ni\\xc3\\xb1o'\n",
        "# utf16\t    b'\\xff\\xfeE\\x00l\\x00 \\x00N\\x00i\\x00\\xf1\\x00o\\x00'\n",
        "\n",
        "for codec in ['ascii', 'latin_1', 'cp1252', 'cp437', 'utf8', 'utf-16le', 'gb2312']:\n",
        "    print(codec, 'A'.encode(codec), sep='\\t')\n",
        "# 출력:\n",
        "# ascii\t    b'A'\n",
        "# latin_1\tb'A'\n",
        "# cp1252\tb'A'\n",
        "# cp437\t    b'A'\n",
        "# utf8\t    b'A'\n",
        "# utf-16le\tb'A\\x00'\n",
        "# gb2312\tb'A'\n"
      ],
      "metadata": {
        "colab": {
          "base_uri": "https://localhost:8080/"
        },
        "id": "1fzS2hk3OtbD",
        "outputId": "0f1ebe0f-e2c8-4c78-aff8-3a5a39459a32"
      },
      "execution_count": 21,
      "outputs": [
        {
          "output_type": "stream",
          "name": "stdout",
          "text": [
            "latin_1\tb'El Ni\\xf1o'\n",
            "utf8\tb'El Ni\\xc3\\xb1o'\n",
            "utf16\tb'\\xff\\xfeE\\x00l\\x00 \\x00N\\x00i\\x00\\xf1\\x00o\\x00'\n",
            "ascii\tb'A'\n",
            "latin_1\tb'A'\n",
            "cp1252\tb'A'\n",
            "cp437\tb'A'\n",
            "utf8\tb'A'\n",
            "utf-16le\tb'A\\x00'\n",
            "gb2312\tb'A'\n"
          ]
        }
      ]
    },
    {
      "cell_type": "markdown",
      "source": [
        "예제 7"
      ],
      "metadata": {
        "id": "oyday1IUPdEw"
      }
    },
    {
      "cell_type": "code",
      "source": [
        "city = 'São Paulo'\n",
        "print(city.encode('utf-8'))\n",
        "# 출력: b'S\\xc3\\xa3o Paulo'\n",
        "\n",
        "# utf-16 계열은 ã 문자 인코딩 가능\n",
        "print(city.encode('utf_16'))\n",
        "# 출력: b'\\xff\\xfeS\\x00\\xe3\\x00 \\x00P\\x00a\\x00u\\x00l\\x00o\\x00'\n",
        "\n",
        "# iso8859_1도 인코딩 가능\n",
        "print(city.encode('iso8859_1'))\n",
        "# 출력: b'S\\xe3o Paulo'\n",
        "\n"
      ],
      "metadata": {
        "colab": {
          "base_uri": "https://localhost:8080/"
        },
        "id": "y9jxVGR6PeOg",
        "outputId": "adcf6b03-cc02-4ddc-84bc-682479fec00d"
      },
      "execution_count": 27,
      "outputs": [
        {
          "output_type": "stream",
          "name": "stdout",
          "text": [
            "b'S\\xc3\\xa3o Paulo'\n",
            "b'\\xff\\xfeS\\x00\\xe3\\x00o\\x00 \\x00P\\x00a\\x00u\\x00l\\x00o\\x00'\n",
            "b'S\\xe3o Paulo'\n"
          ]
        }
      ]
    },
    {
      "cell_type": "code",
      "source": [
        "# cp437은 ã 문자 인코딩 불가능\n",
        "# strict는 UnicodeEncodeError 발생\n",
        "city.encode('cp437')  # 인코딩 에러 발생\n"
      ],
      "metadata": {
        "colab": {
          "base_uri": "https://localhost:8080/",
          "height": 297
        },
        "id": "GXLUVukvCdEH",
        "outputId": "c0f6064d-32f0-41a0-de34-9ae475471961"
      },
      "execution_count": 28,
      "outputs": [
        {
          "output_type": "error",
          "ename": "UnicodeEncodeError",
          "evalue": "'charmap' codec can't encode character '\\xe3' in position 1: character maps to <undefined>",
          "traceback": [
            "\u001b[0;31m---------------------------------------------------------------------------\u001b[0m",
            "\u001b[0;31mUnicodeEncodeError\u001b[0m                        Traceback (most recent call last)",
            "\u001b[0;32m<ipython-input-28-c4e190f914a6>\u001b[0m in \u001b[0;36m<cell line: 3>\u001b[0;34m()\u001b[0m\n\u001b[1;32m      1\u001b[0m \u001b[0;31m# cp437은 ã 문자 인코딩 불가능\u001b[0m\u001b[0;34m\u001b[0m\u001b[0;34m\u001b[0m\u001b[0m\n\u001b[1;32m      2\u001b[0m \u001b[0;31m# strict는 UnicodeEncodeError 발생\u001b[0m\u001b[0;34m\u001b[0m\u001b[0;34m\u001b[0m\u001b[0m\n\u001b[0;32m----> 3\u001b[0;31m \u001b[0mcity\u001b[0m\u001b[0;34m.\u001b[0m\u001b[0mencode\u001b[0m\u001b[0;34m(\u001b[0m\u001b[0;34m'cp437'\u001b[0m\u001b[0;34m)\u001b[0m  \u001b[0;31m# 인코딩 에러 발생\u001b[0m\u001b[0;34m\u001b[0m\u001b[0;34m\u001b[0m\u001b[0m\n\u001b[0m",
            "\u001b[0;32m/usr/lib/python3.10/encodings/cp437.py\u001b[0m in \u001b[0;36mencode\u001b[0;34m(self, input, errors)\u001b[0m\n\u001b[1;32m     10\u001b[0m \u001b[0;34m\u001b[0m\u001b[0m\n\u001b[1;32m     11\u001b[0m     \u001b[0;32mdef\u001b[0m \u001b[0mencode\u001b[0m\u001b[0;34m(\u001b[0m\u001b[0mself\u001b[0m\u001b[0;34m,\u001b[0m\u001b[0minput\u001b[0m\u001b[0;34m,\u001b[0m\u001b[0merrors\u001b[0m\u001b[0;34m=\u001b[0m\u001b[0;34m'strict'\u001b[0m\u001b[0;34m)\u001b[0m\u001b[0;34m:\u001b[0m\u001b[0;34m\u001b[0m\u001b[0;34m\u001b[0m\u001b[0m\n\u001b[0;32m---> 12\u001b[0;31m         \u001b[0;32mreturn\u001b[0m \u001b[0mcodecs\u001b[0m\u001b[0;34m.\u001b[0m\u001b[0mcharmap_encode\u001b[0m\u001b[0;34m(\u001b[0m\u001b[0minput\u001b[0m\u001b[0;34m,\u001b[0m\u001b[0merrors\u001b[0m\u001b[0;34m,\u001b[0m\u001b[0mencoding_map\u001b[0m\u001b[0;34m)\u001b[0m\u001b[0;34m\u001b[0m\u001b[0;34m\u001b[0m\u001b[0m\n\u001b[0m\u001b[1;32m     13\u001b[0m \u001b[0;34m\u001b[0m\u001b[0m\n\u001b[1;32m     14\u001b[0m     \u001b[0;32mdef\u001b[0m \u001b[0mdecode\u001b[0m\u001b[0;34m(\u001b[0m\u001b[0mself\u001b[0m\u001b[0;34m,\u001b[0m\u001b[0minput\u001b[0m\u001b[0;34m,\u001b[0m\u001b[0merrors\u001b[0m\u001b[0;34m=\u001b[0m\u001b[0;34m'strict'\u001b[0m\u001b[0;34m)\u001b[0m\u001b[0;34m:\u001b[0m\u001b[0;34m\u001b[0m\u001b[0;34m\u001b[0m\u001b[0m\n",
            "\u001b[0;31mUnicodeEncodeError\u001b[0m: 'charmap' codec can't encode character '\\xe3' in position 1: character maps to <undefined>"
          ]
        }
      ]
    },
    {
      "cell_type": "code",
      "source": [
        "city = 'São Paulo'\n",
        "\n",
        "print(city.encode('cp437', errors='ignore'))  # 인코딩 에러 건너뜀\n",
        "# 출력: b'So Paulo'\n",
        "\n",
        "print(city.encode('cp437', errors='replace'))  # 물음표(?)로 치환\n",
        "# 출력: b'S?o Paulo'\n",
        "\n",
        "print(city.encode('cp437', errors='xmlcharrefreplace'))  # XML 객체로 치환\n",
        "# 출력: b'S&#227;o Paulo'\n"
      ],
      "metadata": {
        "colab": {
          "base_uri": "https://localhost:8080/"
        },
        "id": "59uob5BzC0QE",
        "outputId": "9b68455a-203d-49a7-ad0e-23423748b06b"
      },
      "execution_count": 29,
      "outputs": [
        {
          "output_type": "stream",
          "name": "stdout",
          "text": [
            "b'So Paulo'\n",
            "b'S?o Paulo'\n",
            "b'S&#227;o Paulo'\n"
          ]
        }
      ]
    },
    {
      "cell_type": "markdown",
      "source": [
        "예제 8\n"
      ],
      "metadata": {
        "id": "Z07JJlyGQ-_-"
      }
    },
    {
      "cell_type": "code",
      "source": [
        "octets = b'Montr\\xe9al'  # latin1으로 인코딩됨\n",
        "print(octets.decode('cp1252'))  # cp1252는 latin1의 superset이므로 제대로 디코딩됨\n",
        "# 출력: 'Montréal'\n",
        "\n",
        "print(octets.decode('iso8859_7'))  # 그리스 문자를 위한 코덱이므로 엉뚱하게 해석함\n",
        "# 출력: 'Montrιal'\n",
        "\n",
        "print(octets.decode('koi8_r'))  # 러시아어를 위한 코덱\n",
        "# 출력: 'Montrйal'\n",
        "\n",
        "octets.decode('utf8')\n",
        "# UnicodeDecodeError: 'utf-8' codec can't decode byte 0xe9 in position 5: invalid continuation byte\n"
      ],
      "metadata": {
        "id": "6P_mfDbAQ-nU",
        "colab": {
          "base_uri": "https://localhost:8080/",
          "height": 245
        },
        "outputId": "b4907462-6ba6-418a-cae6-0b2c03aae7c9"
      },
      "execution_count": 30,
      "outputs": [
        {
          "output_type": "stream",
          "name": "stdout",
          "text": [
            "Montréal\n",
            "Montrιal\n",
            "MontrИal\n"
          ]
        },
        {
          "output_type": "error",
          "ename": "UnicodeDecodeError",
          "evalue": "'utf-8' codec can't decode byte 0xe9 in position 5: invalid continuation byte",
          "traceback": [
            "\u001b[0;31m---------------------------------------------------------------------------\u001b[0m",
            "\u001b[0;31mUnicodeDecodeError\u001b[0m                        Traceback (most recent call last)",
            "\u001b[0;32m<ipython-input-30-d00b0be7f6e8>\u001b[0m in \u001b[0;36m<cell line: 11>\u001b[0;34m()\u001b[0m\n\u001b[1;32m      9\u001b[0m \u001b[0;31m# 출력: 'Montrйal'\u001b[0m\u001b[0;34m\u001b[0m\u001b[0;34m\u001b[0m\u001b[0m\n\u001b[1;32m     10\u001b[0m \u001b[0;34m\u001b[0m\u001b[0m\n\u001b[0;32m---> 11\u001b[0;31m \u001b[0moctets\u001b[0m\u001b[0;34m.\u001b[0m\u001b[0mdecode\u001b[0m\u001b[0;34m(\u001b[0m\u001b[0;34m'utf8'\u001b[0m\u001b[0;34m)\u001b[0m\u001b[0;34m\u001b[0m\u001b[0;34m\u001b[0m\u001b[0m\n\u001b[0m\u001b[1;32m     12\u001b[0m \u001b[0;31m# UnicodeDecodeError: 'utf-8' codec can't decode byte 0xe9 in position 5: invalid continuation byte\u001b[0m\u001b[0;34m\u001b[0m\u001b[0;34m\u001b[0m\u001b[0m\n",
            "\u001b[0;31mUnicodeDecodeError\u001b[0m: 'utf-8' codec can't decode byte 0xe9 in position 5: invalid continuation byte"
          ]
        }
      ]
    },
    {
      "cell_type": "code",
      "source": [
        "# �는 알 수 없는 문자를 표현하기 위해 사용하는 유니코드 공식 치환 문자\n",
        "print(octets.decode('utf8', errors='replace'))\n",
        "# 출력: 'Montr�al'\n",
        "\n",
        "print('é'.encode('utf8'))\n",
        "# 출력: b'\\xc3\\xa9'\n"
      ],
      "metadata": {
        "colab": {
          "base_uri": "https://localhost:8080/"
        },
        "id": "GqVBZE8hDfxH",
        "outputId": "e78e869b-5421-48d7-c19b-f7c9531798c7"
      },
      "execution_count": 31,
      "outputs": [
        {
          "output_type": "stream",
          "name": "stdout",
          "text": [
            "Montr�al\n",
            "b'\\xc3\\xa9'\n"
          ]
        }
      ]
    },
    {
      "cell_type": "markdown",
      "source": [
        "예제 9"
      ],
      "metadata": {
        "id": "iBLUgXpum6oj"
      }
    },
    {
      "cell_type": "code",
      "source": [
        "u16 = 'El Niño'.encode('utf16')\n",
        "print(u16)\n",
        "# 출력: b'\\xff\\xfeE\\x00l\\x00 \\x00N\\x00i\\x00\\xf1\\x00o\\x00'\n",
        "\n",
        "print(list(u16))\n",
        "# 출력: [255, 254, 69, 0, 108, 0, 32, 0, 78, 0, 105, 0, 241, 0, 111, 0]\n"
      ],
      "metadata": {
        "colab": {
          "base_uri": "https://localhost:8080/"
        },
        "id": "IOCbpGWrm7vA",
        "outputId": "e8afb7e8-7f57-47b3-a38f-5bbd19c583e8"
      },
      "execution_count": 32,
      "outputs": [
        {
          "output_type": "stream",
          "name": "stdout",
          "text": [
            "b'\\xff\\xfeE\\x00l\\x00 \\x00N\\x00i\\x00\\xf1\\x00o\\x00'\n",
            "[255, 254, 69, 0, 108, 0, 32, 0, 78, 0, 105, 0, 241, 0, 111, 0]\n"
          ]
        }
      ]
    },
    {
      "cell_type": "code",
      "source": [
        "u16le = 'El Niño'.encode('utf_16le')\n",
        "print(list(u16le))\n",
        "# 출력: [69, 0, 108, 0, 32, 0, 78, 0, 105, 0, 241, 0, 111, 0]\n",
        "\n",
        "u16be = 'El Niño'.encode('utf_16be')\n",
        "print(list(u16be))\n",
        "# 출력: [0, 69, 0, 108, 0, 32, 0, 78, 0, 105, 0, 241, 0, 111]\n"
      ],
      "metadata": {
        "colab": {
          "base_uri": "https://localhost:8080/"
        },
        "id": "6gbHGJdDDs75",
        "outputId": "cf0a1496-df16-43ec-ff9f-6bf72d783ee9"
      },
      "execution_count": 33,
      "outputs": [
        {
          "output_type": "stream",
          "name": "stdout",
          "text": [
            "[69, 0, 108, 0, 32, 0, 78, 0, 105, 0, 241, 0, 111, 0]\n",
            "[0, 69, 0, 108, 0, 32, 0, 78, 0, 105, 0, 241, 0, 111]\n"
          ]
        }
      ]
    }
  ]
}